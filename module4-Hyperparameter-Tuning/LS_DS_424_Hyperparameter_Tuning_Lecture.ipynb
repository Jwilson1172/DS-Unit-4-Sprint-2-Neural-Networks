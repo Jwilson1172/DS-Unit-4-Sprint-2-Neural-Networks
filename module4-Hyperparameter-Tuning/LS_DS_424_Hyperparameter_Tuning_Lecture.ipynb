{
 "cells": [
  {
   "cell_type": "markdown",
   "metadata": {
    "colab_type": "text",
    "id": "41TS0Sa0rDNx"
   },
   "source": [
    "Lambda School Data Science\n",
    "\n",
    "*Unit 4, Sprint 2, Module 4*\n",
    "\n",
    "---"
   ]
  },
  {
   "cell_type": "markdown",
   "metadata": {
    "colab_type": "text",
    "id": "41TS0Sa0rDNx"
   },
   "source": [
    "# Neural Networks & GPUs (Prepare)\n",
    "*aka Hyperparameter Tuning*\n",
    "\n",
    "*aka Big Servers for Big Problems*"
   ]
  },
  {
   "cell_type": "markdown",
   "metadata": {
    "colab_type": "text",
    "id": "41TS0Sa0rDNx"
   },
   "source": [
    "## Learning Objectives\n",
    "* <a href=\"#p1\">Part 1</a>: Describe the major hyperparemeters to tune\n",
    "* <a href=\"#p2\">Part 2</a>: Implement an experiment tracking framework\n",
    "* <a href=\"#p3\">Part 3</a>: Search the hyperparameter space using RandomSearch (Optional)"
   ]
  },
  {
   "cell_type": "code",
   "execution_count": 17,
   "metadata": {},
   "outputs": [],
   "source": []
  },
  {
   "cell_type": "code",
   "execution_count": 3,
   "metadata": {},
   "outputs": [
    {
     "output_type": "display_data",
     "data": {
      "text/plain": "<IPython.core.display.HTML object>",
      "text/html": "\n                Logging results to <a href=\"https://wandb.com\" target=\"_blank\">Weights & Biases</a> <a href=\"https://docs.wandb.com/integrations/jupyter.html\" target=\"_blank\">(Documentation)</a>.<br/>\n                Project page: <a href=\"https://app.wandb.ai/jwilson1172/lambda\" target=\"_blank\">https://app.wandb.ai/jwilson1172/lambda</a><br/>\n                Run page: <a href=\"https://app.wandb.ai/jwilson1172/lambda/runs/runlrtzj\" target=\"_blank\">https://app.wandb.ai/jwilson1172/lambda/runs/runlrtzj</a><br/>\n            "
     },
     "metadata": {}
    },
    {
     "output_type": "stream",
     "name": "stderr",
     "text": "\u001b[34m\u001b[1mwandb\u001b[0m: Wandb version 0.8.36 is available!  To upgrade, please run:\n\u001b[34m\u001b[1mwandb\u001b[0m:  $ pip install wandb --upgrade\n"
    },
    {
     "output_type": "execute_result",
     "data": {
      "text/plain": "W&B Run: https://app.wandb.ai/jwilson1172/lambda/runs/runlrtzj"
     },
     "metadata": {},
     "execution_count": 3
    }
   ],
   "source": [
    "import wandb\n",
    "from wandb.keras import WandbCallback\n",
    "wandb.init(project=wandb_project)"
   ]
  },
  {
   "cell_type": "markdown",
   "metadata": {},
   "source": [
    "# Hyperparameter Options (Learn)\n",
    "<a id=\"p1\"></a>"
   ]
  },
  {
   "cell_type": "markdown",
   "metadata": {},
   "source": [
    "## Overview\n",
    "\n",
    "Hyperparameter tuning is much more important with neural networks than it has been with any other models that we have considered up to this point. Other supervised learning models might have a couple of parameters, but neural networks can have dozens. These can substantially affect the accuracy of our models and although it can be a time consuming process is a necessary step when working with neural networks.\n",
    "​\n",
    "Hyperparameter tuning comes with a challenge. How can we compare models specified with different hyperparameters if our model's final error metric can vary somewhat erratically? How do we avoid just getting unlucky and selecting the wrong hyperparameter? This is a problem that to a certain degree we just have to live with as we test and test again. However, we can minimize it somewhat by pairing our experiments with Cross Validation to reduce the variance of our final accuracy values."
   ]
  },
  {
   "cell_type": "markdown",
   "metadata": {
    "colab_type": "text",
    "id": "0s0o2pqBs88q"
   },
   "source": [
    "### Load Boston Housing Data"
   ]
  },
  {
   "cell_type": "code",
   "execution_count": 6,
   "metadata": {},
   "outputs": [],
   "source": [
    "from tensorflow.keras.datasets import boston_housing\n",
    "\n",
    "(x_train, y_train), (x_test, y_test) = boston_housing.load_data()"
   ]
  },
  {
   "cell_type": "markdown",
   "metadata": {
    "colab_type": "text",
    "id": "Pm7zow5IvaTt"
   },
   "source": [
    "### Normalizing Input Data\n",
    "\n",
    "It's not 100% necessary to normalize/scale your input data before feeding it to a neural network, the network can learn the appropriate weights to deal with data of as long as it is numerically represented,  but it is recommended as it can help **make training faster** and **reduces the chances that gradient descent might get stuck in a local optimum**.\n",
    "\n",
    "<https://stackoverflow.com/questions/4674623/why-do-we-have-to-normalize-the-input-for-an-artificial-neural-network>"
   ]
  },
  {
   "cell_type": "code",
   "execution_count": 7,
   "metadata": {},
   "outputs": [
    {
     "output_type": "stream",
     "name": "stdout",
     "text": "[[-0.27224633 -0.48361547 -0.43576161 -0.25683275 -0.1652266  -0.1764426\n   0.81306188  0.1166983  -0.62624905 -0.59517003  1.14850044  0.44807713\n   0.8252202 ]\n [-0.40342651  2.99178419 -1.33391162 -0.25683275 -1.21518188  1.89434613\n  -1.91036058  1.24758524 -0.85646254 -0.34843254 -1.71818909  0.43190599\n  -1.32920239]\n [ 0.1249402  -0.48361547  1.0283258  -0.25683275  0.62864202 -1.82968811\n   1.11048828 -1.18743907  1.67588577  1.5652875   0.78447637  0.22061726\n  -1.30850006]\n [-0.40149354 -0.48361547 -0.86940196 -0.25683275 -0.3615597  -0.3245576\n  -1.23667187  1.10717989 -0.51114231 -1.094663    0.78447637  0.44807713\n  -0.65292624]\n [-0.0056343  -0.48361547  1.0283258  -0.25683275  1.32861221  0.15364225\n   0.69480801 -0.57857203  1.67588577  1.5652875   0.78447637  0.3898823\n   0.26349695]\n [-0.37502238 -0.48361547 -0.54747912 -0.25683275 -0.54935658 -0.78865126\n   0.18954148  0.48371503 -0.51114231 -0.71552978  0.51145832  0.38669063\n  -0.13812828]\n [ 0.58963463 -0.48361547  1.0283258  -0.25683275  1.21764133 -1.03127774\n   1.11048828 -1.06518235  1.67588577  1.5652875   0.78447637  0.44807713\n   1.49873604]\n [ 0.0381708  -0.48361547  1.24588095 -0.25683275  2.67733525 -1.12719983\n   1.11048828 -1.14833073 -0.51114231 -0.01744323 -1.71818909  0.44807713\n   1.88793986]\n [-0.17228416 -0.48361547  1.24588095 -0.25683275  2.67733525 -0.90150078\n   1.11048828 -1.09664657 -0.51114231 -0.01744323 -1.71818909 -1.97365769\n   0.53952803]\n [-0.22932104 -0.48361547  1.58544339 -0.25683275  0.56888847 -1.76056777\n   1.11048828 -1.13471925 -0.62624905  0.18716835  1.23950646  0.44807713\n   2.99068404]]\n"
    }
   ],
   "source": [
    "from sklearn.preprocessing import StandardScaler\n",
    "from sklearn.preprocessing import MinMaxScaler\n",
    "\n",
    "scaler = StandardScaler()\n",
    "minmax = MinMaxScaler()\n",
    "\n",
    "x_train_minmax = minmax.fit_transform(x_train)\n",
    "x_test_minmax = minmax.transform(x_test)\n",
    "\n",
    "x_train = scaler.fit_transform(x_train)\n",
    "x_test = scaler.transform(x_test)\n",
    "\n",
    "print(x_train[:10])"
   ]
  },
  {
   "cell_type": "markdown",
   "metadata": {
    "colab_type": "text",
    "id": "l6hgCWbir90R"
   },
   "source": [
    "### Model Validation using an automatic verification Dataset\n",
    "\n",
    "Instead of doing seperate train test split class, Keras has a really nice feature that you can set the validation.data argument when fitting your model and Keras will take that portion of your test data and use it as a validation dataset. "
   ]
  },
  {
   "cell_type": "code",
   "execution_count": 8,
   "metadata": {
    "colab": {
     "base_uri": "https://localhost:8080/",
     "height": 1750
    },
    "colab_type": "code",
    "id": "GMXVfmzXp1Oo",
    "outputId": "b05e251e-508f-46e6-865b-f869ae2a5dc4"
   },
   "outputs": [
    {
     "output_type": "stream",
     "name": "stdout",
     "text": "Epoch 1/75\n41/41 [==============================] - 0s 7ms/step - loss: 481.5813 - mse: 481.5813 - mae: 19.8859 - val_loss: 377.5645 - val_mse: 377.5645 - val_mae: 17.3190\nEpoch 2/75\n41/41 [==============================] - 0s 3ms/step - loss: 213.4941 - mse: 213.4941 - mae: 12.0836 - val_loss: 94.9372 - val_mse: 94.9372 - val_mae: 7.8834\nEpoch 3/75\n41/41 [==============================] - 0s 3ms/step - loss: 62.7847 - mse: 62.7847 - mae: 5.9698 - val_loss: 42.1805 - val_mse: 42.1805 - val_mae: 5.2148\nEpoch 4/75\n41/41 [==============================] - 0s 3ms/step - loss: 31.2281 - mse: 31.2281 - mae: 4.0341 - val_loss: 26.4939 - val_mse: 26.4939 - val_mae: 4.1497\nEpoch 5/75\n41/41 [==============================] - 0s 3ms/step - loss: 21.7134 - mse: 21.7134 - mae: 3.2801 - val_loss: 22.6905 - val_mse: 22.6905 - val_mae: 3.7751\nEpoch 6/75\n41/41 [==============================] - 0s 3ms/step - loss: 18.6595 - mse: 18.6595 - mae: 3.0965 - val_loss: 21.1727 - val_mse: 21.1727 - val_mae: 3.5522\nEpoch 7/75\n41/41 [==============================] - 0s 3ms/step - loss: 16.6027 - mse: 16.6027 - mae: 2.8748 - val_loss: 21.7791 - val_mse: 21.7791 - val_mae: 3.5508\nEpoch 8/75\n41/41 [==============================] - 0s 3ms/step - loss: 15.1706 - mse: 15.1706 - mae: 2.7677 - val_loss: 20.0214 - val_mse: 20.0214 - val_mae: 3.3313\nEpoch 9/75\n41/41 [==============================] - 0s 3ms/step - loss: 14.0004 - mse: 14.0004 - mae: 2.6682 - val_loss: 21.2657 - val_mse: 21.2657 - val_mae: 3.4170\nEpoch 10/75\n41/41 [==============================] - 0s 3ms/step - loss: 13.6302 - mse: 13.6302 - mae: 2.6575 - val_loss: 20.2659 - val_mse: 20.2659 - val_mae: 3.2846\nEpoch 11/75\n41/41 [==============================] - 0s 3ms/step - loss: 12.6188 - mse: 12.6188 - mae: 2.5847 - val_loss: 19.9358 - val_mse: 19.9358 - val_mae: 3.2271\nEpoch 12/75\n41/41 [==============================] - 0s 4ms/step - loss: 12.3993 - mse: 12.3993 - mae: 2.5125 - val_loss: 21.1368 - val_mse: 21.1368 - val_mae: 3.2958\nEpoch 13/75\n41/41 [==============================] - 0s 4ms/step - loss: 11.5524 - mse: 11.5524 - mae: 2.4542 - val_loss: 19.6484 - val_mse: 19.6484 - val_mae: 3.1517\nEpoch 14/75\n41/41 [==============================] - 0s 3ms/step - loss: 11.3517 - mse: 11.3517 - mae: 2.4354 - val_loss: 20.0982 - val_mse: 20.0982 - val_mae: 3.1672\nEpoch 15/75\n41/41 [==============================] - 0s 4ms/step - loss: 10.9414 - mse: 10.9414 - mae: 2.3500 - val_loss: 22.5166 - val_mse: 22.5166 - val_mae: 3.3421\nEpoch 16/75\n41/41 [==============================] - 0s 4ms/step - loss: 10.5436 - mse: 10.5436 - mae: 2.3438 - val_loss: 21.5287 - val_mse: 21.5287 - val_mae: 3.1684\nEpoch 17/75\n41/41 [==============================] - 0s 4ms/step - loss: 10.2117 - mse: 10.2117 - mae: 2.3149 - val_loss: 21.3057 - val_mse: 21.3057 - val_mae: 3.1723\nEpoch 18/75\n41/41 [==============================] - 0s 3ms/step - loss: 9.8911 - mse: 9.8911 - mae: 2.2693 - val_loss: 19.7645 - val_mse: 19.7645 - val_mae: 3.0640\nEpoch 19/75\n41/41 [==============================] - 0s 3ms/step - loss: 9.8131 - mse: 9.8131 - mae: 2.2576 - val_loss: 19.6191 - val_mse: 19.6191 - val_mae: 3.0239\nEpoch 20/75\n41/41 [==============================] - 0s 3ms/step - loss: 9.8711 - mse: 9.8711 - mae: 2.2571 - val_loss: 19.7172 - val_mse: 19.7172 - val_mae: 3.0328\nEpoch 21/75\n41/41 [==============================] - 0s 3ms/step - loss: 9.3213 - mse: 9.3213 - mae: 2.2174 - val_loss: 21.8465 - val_mse: 21.8465 - val_mae: 3.1300\nEpoch 22/75\n41/41 [==============================] - 0s 4ms/step - loss: 9.2776 - mse: 9.2776 - mae: 2.1884 - val_loss: 22.4025 - val_mse: 22.4025 - val_mae: 3.2164\nEpoch 23/75\n41/41 [==============================] - 0s 3ms/step - loss: 9.2586 - mse: 9.2586 - mae: 2.1859 - val_loss: 19.7707 - val_mse: 19.7707 - val_mae: 2.9644\nEpoch 24/75\n41/41 [==============================] - 0s 3ms/step - loss: 8.9478 - mse: 8.9478 - mae: 2.1375 - val_loss: 21.1975 - val_mse: 21.1975 - val_mae: 3.1341\nEpoch 25/75\n41/41 [==============================] - 0s 3ms/step - loss: 8.8516 - mse: 8.8516 - mae: 2.1636 - val_loss: 20.9414 - val_mse: 20.9414 - val_mae: 2.9850\nEpoch 26/75\n41/41 [==============================] - 0s 3ms/step - loss: 8.8974 - mse: 8.8974 - mae: 2.1115 - val_loss: 21.6879 - val_mse: 21.6879 - val_mae: 3.0085\nEpoch 27/75\n41/41 [==============================] - 0s 3ms/step - loss: 8.4976 - mse: 8.4976 - mae: 2.1074 - val_loss: 20.1039 - val_mse: 20.1039 - val_mae: 2.9511\nEpoch 28/75\n41/41 [==============================] - 0s 3ms/step - loss: 8.5633 - mse: 8.5633 - mae: 2.1006 - val_loss: 20.4389 - val_mse: 20.4389 - val_mae: 2.9081\nEpoch 29/75\n41/41 [==============================] - 0s 3ms/step - loss: 8.4553 - mse: 8.4553 - mae: 2.0898 - val_loss: 19.5930 - val_mse: 19.5930 - val_mae: 2.8799\nEpoch 30/75\n41/41 [==============================] - 0s 3ms/step - loss: 8.1721 - mse: 8.1721 - mae: 2.0524 - val_loss: 22.2746 - val_mse: 22.2746 - val_mae: 3.0531\nEpoch 31/75\n41/41 [==============================] - 0s 4ms/step - loss: 8.2681 - mse: 8.2681 - mae: 2.0674 - val_loss: 21.2605 - val_mse: 21.2605 - val_mae: 2.9805\nEpoch 32/75\n41/41 [==============================] - 0s 3ms/step - loss: 8.1580 - mse: 8.1580 - mae: 2.0493 - val_loss: 21.5679 - val_mse: 21.5679 - val_mae: 3.0151\nEpoch 33/75\n41/41 [==============================] - 0s 3ms/step - loss: 8.1213 - mse: 8.1213 - mae: 2.0414 - val_loss: 19.4988 - val_mse: 19.4988 - val_mae: 2.8506\nEpoch 34/75\n41/41 [==============================] - 0s 4ms/step - loss: 8.3362 - mse: 8.3362 - mae: 2.0683 - val_loss: 19.2564 - val_mse: 19.2564 - val_mae: 2.8553\nEpoch 35/75\n41/41 [==============================] - 0s 3ms/step - loss: 8.0107 - mse: 8.0107 - mae: 2.0109 - val_loss: 21.0081 - val_mse: 21.0081 - val_mae: 2.9152\nEpoch 36/75\n41/41 [==============================] - 0s 3ms/step - loss: 7.7230 - mse: 7.7230 - mae: 1.9816 - val_loss: 20.8092 - val_mse: 20.8092 - val_mae: 2.8498\nEpoch 37/75\n41/41 [==============================] - 0s 3ms/step - loss: 7.7249 - mse: 7.7249 - mae: 1.9485 - val_loss: 21.4684 - val_mse: 21.4684 - val_mae: 2.9493\nEpoch 38/75\n41/41 [==============================] - 0s 4ms/step - loss: 7.5099 - mse: 7.5099 - mae: 1.9601 - val_loss: 20.4731 - val_mse: 20.4731 - val_mae: 2.9053\nEpoch 39/75\n41/41 [==============================] - 0s 3ms/step - loss: 7.4979 - mse: 7.4979 - mae: 1.9374 - val_loss: 20.7151 - val_mse: 20.7151 - val_mae: 2.8597\nEpoch 40/75\n41/41 [==============================] - 0s 3ms/step - loss: 7.3718 - mse: 7.3718 - mae: 1.9372 - val_loss: 20.4573 - val_mse: 20.4573 - val_mae: 2.8919\nEpoch 41/75\n41/41 [==============================] - 0s 4ms/step - loss: 7.5196 - mse: 7.5196 - mae: 1.9577 - val_loss: 19.9312 - val_mse: 19.9312 - val_mae: 2.9356\nEpoch 42/75\n41/41 [==============================] - 0s 3ms/step - loss: 7.2746 - mse: 7.2746 - mae: 1.9369 - val_loss: 19.2897 - val_mse: 19.2897 - val_mae: 2.7787\nEpoch 43/75\n41/41 [==============================] - 0s 3ms/step - loss: 7.1928 - mse: 7.1928 - mae: 1.8962 - val_loss: 19.6227 - val_mse: 19.6227 - val_mae: 2.7978\nEpoch 44/75\n41/41 [==============================] - 0s 4ms/step - loss: 7.0100 - mse: 7.0100 - mae: 1.8883 - val_loss: 19.9440 - val_mse: 19.9440 - val_mae: 3.0283\nEpoch 45/75\n41/41 [==============================] - 0s 3ms/step - loss: 7.1068 - mse: 7.1068 - mae: 1.8902 - val_loss: 19.9588 - val_mse: 19.9588 - val_mae: 2.8662\nEpoch 46/75\n41/41 [==============================] - 0s 4ms/step - loss: 7.0073 - mse: 7.0073 - mae: 1.8906 - val_loss: 19.9847 - val_mse: 19.9847 - val_mae: 2.8205\nEpoch 47/75\n41/41 [==============================] - 0s 3ms/step - loss: 6.9120 - mse: 6.9120 - mae: 1.8684 - val_loss: 19.6685 - val_mse: 19.6685 - val_mae: 2.9572\nEpoch 48/75\n41/41 [==============================] - 0s 3ms/step - loss: 6.7596 - mse: 6.7596 - mae: 1.8557 - val_loss: 19.1422 - val_mse: 19.1422 - val_mae: 2.7362\nEpoch 49/75\n41/41 [==============================] - 0s 4ms/step - loss: 7.0241 - mse: 7.0241 - mae: 1.9090 - val_loss: 18.6681 - val_mse: 18.6681 - val_mae: 2.7850\nEpoch 50/75\n41/41 [==============================] - 0s 3ms/step - loss: 6.7086 - mse: 6.7086 - mae: 1.8565 - val_loss: 19.2684 - val_mse: 19.2684 - val_mae: 2.7949\nEpoch 51/75\n41/41 [==============================] - 0s 3ms/step - loss: 6.7194 - mse: 6.7194 - mae: 1.8436 - val_loss: 18.7645 - val_mse: 18.7645 - val_mae: 2.8388\nEpoch 52/75\n41/41 [==============================] - 0s 3ms/step - loss: 6.4783 - mse: 6.4783 - mae: 1.7989 - val_loss: 19.7420 - val_mse: 19.7420 - val_mae: 2.7759\nEpoch 53/75\n41/41 [==============================] - 0s 3ms/step - loss: 6.3804 - mse: 6.3804 - mae: 1.7993 - val_loss: 18.7389 - val_mse: 18.7389 - val_mae: 2.7338\nEpoch 54/75\n41/41 [==============================] - 0s 3ms/step - loss: 6.5282 - mse: 6.5282 - mae: 1.8167 - val_loss: 18.6360 - val_mse: 18.6360 - val_mae: 2.7398\nEpoch 55/75\n41/41 [==============================] - 0s 3ms/step - loss: 6.3267 - mse: 6.3267 - mae: 1.7844 - val_loss: 19.4683 - val_mse: 19.4683 - val_mae: 2.7661\nEpoch 56/75\n41/41 [==============================] - 0s 3ms/step - loss: 6.3956 - mse: 6.3956 - mae: 1.7932 - val_loss: 18.9726 - val_mse: 18.9726 - val_mae: 2.7498\nEpoch 57/75\n41/41 [==============================] - 0s 3ms/step - loss: 6.1458 - mse: 6.1458 - mae: 1.7562 - val_loss: 18.6777 - val_mse: 18.6777 - val_mae: 2.7528\nEpoch 58/75\n41/41 [==============================] - 0s 3ms/step - loss: 6.3706 - mse: 6.3706 - mae: 1.7977 - val_loss: 19.2050 - val_mse: 19.2050 - val_mae: 2.8024\nEpoch 59/75\n41/41 [==============================] - 0s 3ms/step - loss: 6.7030 - mse: 6.7030 - mae: 1.8398 - val_loss: 18.7512 - val_mse: 18.7512 - val_mae: 2.8601\nEpoch 60/75\n41/41 [==============================] - 0s 4ms/step - loss: 6.5308 - mse: 6.5308 - mae: 1.8395 - val_loss: 17.3289 - val_mse: 17.3289 - val_mae: 2.6326\nEpoch 61/75\n41/41 [==============================] - 0s 3ms/step - loss: 6.3167 - mse: 6.3167 - mae: 1.7867 - val_loss: 18.0369 - val_mse: 18.0369 - val_mae: 2.7186\nEpoch 62/75\n41/41 [==============================] - 0s 3ms/step - loss: 6.1157 - mse: 6.1157 - mae: 1.7820 - val_loss: 17.6700 - val_mse: 17.6700 - val_mae: 2.6501\nEpoch 63/75\n41/41 [==============================] - 0s 3ms/step - loss: 6.0174 - mse: 6.0174 - mae: 1.7737 - val_loss: 18.3320 - val_mse: 18.3320 - val_mae: 2.7587\nEpoch 64/75\n41/41 [==============================] - 0s 3ms/step - loss: 5.9211 - mse: 5.9211 - mae: 1.7332 - val_loss: 17.7519 - val_mse: 17.7519 - val_mae: 2.6602\nEpoch 65/75\n41/41 [==============================] - 0s 3ms/step - loss: 5.7087 - mse: 5.7087 - mae: 1.7007 - val_loss: 18.6138 - val_mse: 18.6138 - val_mae: 2.7924\nEpoch 66/75\n41/41 [==============================] - 0s 3ms/step - loss: 5.8068 - mse: 5.8068 - mae: 1.7460 - val_loss: 18.0308 - val_mse: 18.0308 - val_mae: 2.6521\nEpoch 67/75\n41/41 [==============================] - 0s 3ms/step - loss: 5.6026 - mse: 5.6026 - mae: 1.6676 - val_loss: 18.4574 - val_mse: 18.4574 - val_mae: 2.7608\nEpoch 68/75\n41/41 [==============================] - 0s 3ms/step - loss: 5.5628 - mse: 5.5628 - mae: 1.6885 - val_loss: 18.4244 - val_mse: 18.4244 - val_mae: 2.7430\nEpoch 69/75\n41/41 [==============================] - 0s 3ms/step - loss: 5.5460 - mse: 5.5460 - mae: 1.6844 - val_loss: 19.8880 - val_mse: 19.8880 - val_mae: 2.9283\nEpoch 70/75\n41/41 [==============================] - 0s 3ms/step - loss: 5.7013 - mse: 5.7013 - mae: 1.7356 - val_loss: 16.4756 - val_mse: 16.4756 - val_mae: 2.5944\nEpoch 71/75\n41/41 [==============================] - 0s 3ms/step - loss: 5.6201 - mse: 5.6201 - mae: 1.6879 - val_loss: 17.7382 - val_mse: 17.7382 - val_mae: 2.8253\nEpoch 72/75\n41/41 [==============================] - 0s 3ms/step - loss: 5.4263 - mse: 5.4263 - mae: 1.6887 - val_loss: 17.8778 - val_mse: 17.8778 - val_mae: 2.7214\nEpoch 73/75\n41/41 [==============================] - 0s 2ms/step - loss: 5.3446 - mse: 5.3446 - mae: 1.6442 - val_loss: 16.5925 - val_mse: 16.5925 - val_mae: 2.6278\nEpoch 74/75\n41/41 [==============================] - 0s 3ms/step - loss: 5.2673 - mse: 5.2673 - mae: 1.6349 - val_loss: 17.4701 - val_mse: 17.4701 - val_mae: 2.7386\nEpoch 75/75\n41/41 [==============================] - 0s 3ms/step - loss: 5.3415 - mse: 5.3415 - mae: 1.6355 - val_loss: 16.9561 - val_mse: 16.9561 - val_mae: 2.6429\n"
    },
    {
     "output_type": "execute_result",
     "data": {
      "text/plain": "<tensorflow.python.keras.callbacks.History at 0x7fb196dc32d0>"
     },
     "metadata": {},
     "execution_count": 8
    }
   ],
   "source": [
    "from tensorflow import keras\n",
    "from tensorflow.keras.models import Sequential\n",
    "from tensorflow.keras.layers import Dense\n",
    "\n",
    "# Important Hyperparameters\n",
    "inputs = x_train.shape[1]\n",
    "epochs = 75\n",
    "batch_size = 10\n",
    "\n",
    "\n",
    "# Create Model\n",
    "model = Sequential()\n",
    "model.add(Dense(64, activation='relu', input_shape=(inputs,)))\n",
    "model.add(Dense(64, activation='relu'))\n",
    "model.add(Dense(1))\n",
    "\n",
    "# Compile Model\n",
    "model.compile(optimizer='adam', loss='mse', metrics=['mse', 'mae'])\n",
    "\n",
    "# Fit Model\n",
    "model.fit(x_train, y_train,\n",
    "          validation_data=(x_test,y_test), \n",
    "          # validation_split=0.8\n",
    "          epochs=epochs,\n",
    "          batch_size=batch_size,\n",
    "         )"
   ]
  },
  {
   "cell_type": "markdown",
   "metadata": {
    "colab_type": "text",
    "id": "sYJ8t_ezHP4W"
   },
   "source": [
    "### Hyperparameter Tuning Approaches:\n",
    "\n",
    "#### 1) Babysitting AKA \"Grad Student Descent\".\n",
    "\n",
    "If you fiddled with any hyperparameters yesterday, this is basically what you did. This approach is 100% manual and is pretty common among researchers where finding that 1 exact specification that jumps your model to a level of accuracy never seen before is the difference between publishing and not publishing a paper. Of course the professors don't do this themselves, that's grunt work. This is also known as the fiddle with hyperparameters until you run out of time method.\n",
    "\n",
    "#### 2) Grid Search\n",
    "\n",
    "Grid Search is the Grad Student galaxy brain realization of: why don't I just specify all the experiments I want to run and let the computer try every possible combination of them while I go and grab lunch. This has a specific downside in that if I specify 5 hyperparameters with 5 options each then I've just created 5^5 combinations of hyperparameters to check. Which means that I have to train 3125 different versions of my model Then if I use 5-fold Cross Validation on that then my model has to run 15,525 times. This is the brute-force method of hyperparameter tuning, but it can be very profitable if done wisely. \n",
    "\n",
    "When using Grid Search here's what I suggest: don't use it to test combinations of different hyperparameters, only use it to test different specifications of **a single** hyperparameter. It's rare that combinations between different hyperparameters lead to big performance gains. You'll get 90-95% of the way there if you just Grid Search one parameter and take the best result, then retain that best result while you test another, and then retain the best specification from that while you train another. This at least makes the situation much more manageable and leads to pretty good results. \n",
    "\n",
    "#### 3) Random Search\n",
    "\n",
    "Do Grid Search for a couple of hours and you'll say to yourself - \"There's got to be a better way.\" Enter Random Search. For Random search you specify a hyperparameter space and it picks specifications from that randomly, tries them out, gives you the best results and says - That's going to have to be good enough, go home and spend time with your family. \n",
    "\n",
    "Grid Search treats every parameter as if it was equally important, but this just isn't the case, some are known to move the needle a lot more than others (we'll talk about that in a minute). Random Search allows searching to be specified along the most important parameter and experiments less along the dimensions of less important hyperparameters. The downside of Random search is that it won't find the absolute best hyperparameters, but it is much less costly to perform than Grid Search. \n",
    "\n",
    "#### 4) Bayesian Methods\n",
    "\n",
    "One thing that can make more manual methods like babysitting and gridsearch effective is that as the experimenter sees results he can then make updates to his future searches taking into account the results of past specifications. If only we could hyperparameter tune our hyperparameter tuning. Well, we kind of can. Enter Bayesian Optimization. Neural Networks are like an optimization problem within an optimization problem, and Bayesian Optimization is a search strategy that tries to take into account the results of past searches in order to improve future ones. Check out the new library `keras-tuner` for easy implementations of Bayesian methods. \n"
   ]
  },
  {
   "cell_type": "markdown",
   "metadata": {
    "colab_type": "text",
    "id": "HfQ7D043OMMn"
   },
   "source": [
    "## What Hyperparameters are there to test?\n",
    "\n",
    "- batch_size\n",
    "- training epochs\n",
    "- optimization algorithms\n",
    "- learning rate\n",
    "- momentum\n",
    "- activation functions\n",
    "- dropout regularization\n",
    "- number of neurons in the hidden layer\n",
    "\n",
    "There are more, but these are the most important."
   ]
  },
  {
   "cell_type": "markdown",
   "metadata": {},
   "source": [
    "## Follow Along"
   ]
  },
  {
   "cell_type": "markdown",
   "metadata": {
    "colab_type": "text",
    "id": "Mri5-kXzVKAa"
   },
   "source": [
    "## Batch Size\n",
    "\n",
    "Batch size determines how many observations the model is shown before it calculates loss/error and updates the model weights via gradient descent. You're looking for a sweet spot here where you're showing it enough observations that you have enough information to updates the weights, but not such a large batch size that you don't get a lot of weight update iterations performed in a given epoch. Feed-forward Neural Networks aren't as sensitive to bach_size as other networks, but it is still an important hyperparameter to tune. Smaller batch sizes will also take longer to train. \n",
    "\n",
    "Traditionally, batch size is set in powers of 2 starting at 32 up to 512. Keras defaults to a batch size of 32 if you do not specify it. Yann LeCun famously Twitted: \n",
    "\n",
    "> Training with large minibatches is bad for your health.\n",
    "More importantly, it's bad for your test error.\n",
    "Friends dont let friends use minibatches larger than 32.\n",
    "\n",
    "Check out this paper for more reference on his tweet. https://arxiv.org/abs/1804.07612. \n",
    "\n",
    "Check out this SO question on why batch size is typically set in powers of two: https://datascience.stackexchange.com/questions/20179/what-is-the-advantage-of-keeping-batch-size-a-power-of-2\n",
    "\n"
   ]
  },
  {
   "cell_type": "code",
   "execution_count": 10,
   "metadata": {
    "colab": {
     "base_uri": "https://localhost:8080/",
     "height": 13561
    },
    "colab_type": "code",
    "id": "2smXfriNAGn7",
    "outputId": "ae996575-78e2-43fb-9dbe-5d44aaf0b430"
   },
   "outputs": [
    {
     "output_type": "stream",
     "name": "stdout",
     "text": "Best: 0.6498175024986267 using {'batch_size': 16, 'epochs': 20}\nMeans: 0.6418385624885559, Stdev: 0.031013390482273938 with: {'batch_size': 8, 'epochs': 20}\nMeans: 0.6498175024986267, Stdev: 0.038091971168927104 with: {'batch_size': 16, 'epochs': 20}\nMeans: 0.6145573496818543, Stdev: 0.05055792729589114 with: {'batch_size': 32, 'epochs': 20}\nMeans: 0.571538919210434, Stdev: 0.05832313597818806 with: {'batch_size': 64, 'epochs': 20}\nMeans: 0.5442661941051483, Stdev: 0.1013539005580917 with: {'batch_size': 128, 'epochs': 20}\nMeans: 0.49736865758895876, Stdev: 0.10385805152355412 with: {'batch_size': 256, 'epochs': 20}\nMeans: 0.45415499806404114, Stdev: 0.12021452038273185 with: {'batch_size': 512, 'epochs': 20}\n"
    }
   ],
   "source": [
    "import numpy\n",
    "import pandas as pd\n",
    "from sklearn.model_selection import GridSearchCV\n",
    "from tensorflow.keras.models import Sequential\n",
    "from tensorflow.keras.layers import Dense\n",
    "from tensorflow.keras.wrappers.scikit_learn import KerasClassifier\n",
    "\n",
    "# fix random seed for reproducibility\n",
    "seed = 7\n",
    "numpy.random.seed(seed)\n",
    "\n",
    "# load dataset\n",
    "url =\"https://raw.githubusercontent.com/jbrownlee/Datasets/master/pima-indians-diabetes.data.csv\"\n",
    "\n",
    "dataset = pd.read_csv(url, header=None).values\n",
    "\n",
    "# split into input (X) and output (Y) variables\n",
    "X = dataset[:,0:8]\n",
    "Y = dataset[:,8]\n",
    "\n",
    "# Function to create model, required for KerasClassifier\n",
    "def create_model():\n",
    "    # create model\n",
    "    model = Sequential()\n",
    "    model.add(Dense(12, input_dim=8, activation='relu'))\n",
    "    model.add(Dense(1, activation='sigmoid'))\n",
    "    # Compile model\n",
    "    model.compile(loss='binary_crossentropy', optimizer='adam', metrics=['accuracy'])\n",
    "    return model\n",
    "\n",
    "# create model\n",
    "# candy wrapper for sci-kit learn so that sklearn can talk to cvsearch.\n",
    "# for the wrapper the model needs to be in a function\n",
    "model = KerasClassifier(build_fn=create_model, verbose=0)\n",
    "\n",
    "# define the grid search parameters\n",
    "# batch_size = [10, 20, 40, 60, 80, 100]\n",
    "# param_grid = dict(batch_size=batch_size, epochs=epochs)\n",
    "\n",
    "# define the grid search parameters\n",
    "param_grid = {'batch_size': [8, 16, 32, 64, 128, 256, 512],\n",
    "              'epochs': [20]}\n",
    "# usally you want to keep the epochs as a constant while\n",
    "# hyperparam tunning\n",
    "# when you are done with hpt thats the time to let the model run with\n",
    "# early stopping.\n",
    "\n",
    "\n",
    "# Create Grid Search\n",
    "grid = GridSearchCV(estimator=model, param_grid=param_grid, n_jobs=-1)\n",
    "grid_result = grid.fit(X, Y)\n"
   ]
  },
  {
   "cell_type": "code",
   "execution_count": 11,
   "metadata": {},
   "outputs": [
    {
     "output_type": "stream",
     "name": "stdout",
     "text": "Best: 0.6498175024986267 using {'batch_size': 16, 'epochs': 20}\n\nMeans: 0.6418385624885559, Stdev: 0.031013390482273938 with: {'batch_size': 8, 'epochs': 20}\nMeans: 0.6498175024986267, Stdev: 0.038091971168927104 with: {'batch_size': 16, 'epochs': 20}\nMeans: 0.6145573496818543, Stdev: 0.05055792729589114 with: {'batch_size': 32, 'epochs': 20}\nMeans: 0.571538919210434, Stdev: 0.05832313597818806 with: {'batch_size': 64, 'epochs': 20}\nMeans: 0.5442661941051483, Stdev: 0.1013539005580917 with: {'batch_size': 128, 'epochs': 20}\nMeans: 0.49736865758895876, Stdev: 0.10385805152355412 with: {'batch_size': 256, 'epochs': 20}\nMeans: 0.45415499806404114, Stdev: 0.12021452038273185 with: {'batch_size': 512, 'epochs': 20}\n"
    }
   ],
   "source": [
    "\n",
    "def print_report(grid_result):\n",
    "    \"\"\"Take the grid search results and print out the best model.\n",
    "    Arguments:\n",
    "    -------------\n",
    "    grid_result - the returned object from a GridSearchCV fit\n",
    "    returns:\n",
    "    -----------\n",
    "    type(None)\n",
    "    \"\"\"\n",
    "    print(f\"Best: {grid_result.best_score_} using {grid_result.best_params_}\\n\")\n",
    "    means = grid_result.cv_results_['mean_test_score']\n",
    "    stds = grid_result.cv_results_['std_test_score']\n",
    "    params = grid_result.cv_results_['params']\n",
    "    for mean, stdev, param in zip(means, stds, params):\n",
    "        print(f\"Means: {mean}, Stdev: {stdev} with: {param}\")\n",
    "    return None\n",
    "print_report(grid_result)"
   ]
  },
  {
   "cell_type": "markdown",
   "metadata": {
    "colab_type": "text",
    "id": "EKcuY6OiaLfz"
   },
   "source": [
    "## Optimizer\n",
    "\n",
    "Remember that there's a different optimizers [optimizers](https://keras.io/optimizers/). At some point, take some time to read up on them a little bit. \"adam\" usually gives the best results. The thing to know about choosing an optimizer is that different optimizers have different hyperparameters like learning rate, momentum, etc. So based on the optimizer you choose you might also have to tune the learning rate and momentum of those optimizers after that. "
   ]
  },
  {
   "cell_type": "markdown",
   "metadata": {
    "colab_type": "text",
    "id": "DG3wq5iOaLig"
   },
   "source": [
    "## Learning Rate\n",
    "\n",
    "Remember that the Learning Rate is a hyperparameter that is specific to your gradient-descent based optimizer selection. A learning rate that is too high will cause divergent behavior, but a Learning Rate that is too low will fail to converge, again, you're looking for the sweet spot. I would start out tuning learning rates by orders of magnitude: [.001, .01, .1, .2, .3, .5] etc. I wouldn't go above .5, but you can try it and see what the behavior is like. \n",
    "\n",
    "Once you have narrowed it down, make the window even smaller and try it again. If after running the above specification your model reports that .1 is the best optimizer, then you should probably try things like [.05, .08, .1, .12, .15] to try and narrow it down. \n",
    "\n",
    "It can also be good to tune the number of epochs in combination with the learning rate since the number of iterations that you allow the learning rate to reach the minimum can determine if you have let it run long enough to converge to the minimum. "
   ]
  },
  {
   "cell_type": "code",
   "execution_count": null,
   "metadata": {},
   "outputs": [],
   "source": [
    "# anything over a .5 is a really high learning rate dont use anything higher\n",
    "# tapper down from .1-0.001\n",
    "# makes sence to change the number of epochs but for now just use a fixed rate\n",
    "# we are going to create a object for the opt\n"
   ]
  },
  {
   "cell_type": "code",
   "execution_count": 13,
   "metadata": {},
   "outputs": [
    {
     "output_type": "error",
     "ename": "TypeError",
     "evalue": "print_report() got an unexpected keyword argument 'grid_result'",
     "traceback": [
      "\u001b[0;31m---------------------------------------------------------------------------\u001b[0m",
      "\u001b[0;31mTypeError\u001b[0m                                 Traceback (most recent call last)",
      "\u001b[0;32m<ipython-input-13-b0476e12eece>\u001b[0m in \u001b[0;36m<module>\u001b[0;34m\u001b[0m\n\u001b[1;32m     33\u001b[0m \u001b[0mgrid\u001b[0m \u001b[0;34m=\u001b[0m \u001b[0mGridSearchCV\u001b[0m\u001b[0;34m(\u001b[0m\u001b[0mestimator\u001b[0m\u001b[0;34m=\u001b[0m\u001b[0mmodel\u001b[0m\u001b[0;34m,\u001b[0m \u001b[0mparam_grid\u001b[0m\u001b[0;34m=\u001b[0m\u001b[0mparam_grid\u001b[0m\u001b[0;34m,\u001b[0m \u001b[0mn_jobs\u001b[0m\u001b[0;34m=\u001b[0m\u001b[0;34m-\u001b[0m\u001b[0;36m1\u001b[0m\u001b[0;34m)\u001b[0m\u001b[0;34m\u001b[0m\u001b[0;34m\u001b[0m\u001b[0m\n\u001b[1;32m     34\u001b[0m \u001b[0mgrid_result\u001b[0m \u001b[0;34m=\u001b[0m \u001b[0mgrid\u001b[0m\u001b[0;34m.\u001b[0m\u001b[0mfit\u001b[0m\u001b[0;34m(\u001b[0m\u001b[0mX\u001b[0m\u001b[0;34m,\u001b[0m \u001b[0mY\u001b[0m\u001b[0;34m)\u001b[0m\u001b[0;34m\u001b[0m\u001b[0;34m\u001b[0m\u001b[0m\n\u001b[0;32m---> 35\u001b[0;31m \u001b[0mprint_report\u001b[0m\u001b[0;34m(\u001b[0m\u001b[0mgrid_result\u001b[0m\u001b[0;34m=\u001b[0m\u001b[0mgrid_result\u001b[0m\u001b[0;34m)\u001b[0m\u001b[0;34m\u001b[0m\u001b[0;34m\u001b[0m\u001b[0m\n\u001b[0m",
      "\u001b[0;31mTypeError\u001b[0m: print_report() got an unexpected keyword argument 'grid_result'"
     ]
    }
   ],
   "source": [
    "# Function to create model, required for KerasClassifier\n",
    "from tensorflow.keras.optimizers import Adam\n",
    "def create_model(lr=0.01):\n",
    "    # create model\n",
    "    opt = Adam(learning_rate=lr)\n",
    "    model = Sequential()\n",
    "    model.add(Dense(12, input_dim=8, activation='relu'))\n",
    "    model.add(Dense(1, activation='sigmoid'))\n",
    "    # Compile model\n",
    "    model.compile(loss='binary_crossentropy', optimizer=opt, metrics=['accuracy'])\n",
    "    return model\n",
    "\n",
    "# create model\n",
    "# candy wrapper for sci-kit learn so that sklearn can talk to cvsearch.\n",
    "# for the wrapper the model needs to be in a function\n",
    "model = KerasClassifier(build_fn=create_model, verbose=0)\n",
    "\n",
    "# define the grid search parameters\n",
    "# batch_size = [10, 20, 40, 60, 80, 100]\n",
    "# param_grid = dict(batch_size=batch_size, epochs=epochs)\n",
    "\n",
    "# define the grid search parameters\n",
    "param_grid = {'batch_size': [8, 16, 32, 64, 128, 256, 512],\n",
    "              'lr': [0.001,0.01,0.1],\n",
    "              'epochs': [20]}\n",
    "# usally you want to keep the epochs as a constant while\n",
    "# hyperparam tunning\n",
    "# when you are done with hpt thats the time to let the model run with\n",
    "# early stopping.\n",
    "\n",
    "\n",
    "# Create Grid Search\n",
    "grid = GridSearchCV(estimator=model, param_grid=param_grid, n_jobs=-1)\n",
    "grid_result = grid.fit(X, Y)\n"
   ]
  },
  {
   "cell_type": "code",
   "execution_count": 14,
   "metadata": {},
   "outputs": [
    {
     "output_type": "stream",
     "name": "stdout",
     "text": "Best: 0.7044987797737121 using {'batch_size': 16, 'epochs': 20, 'lr': 0.01}\n\nMeans: 0.6522875905036927, Stdev: 0.03269222632197904 with: {'batch_size': 8, 'epochs': 20, 'lr': 0.001}\nMeans: 0.6862745165824891, Stdev: 0.05786299307643401 with: {'batch_size': 8, 'epochs': 20, 'lr': 0.01}\nMeans: 0.6511586427688598, Stdev: 0.05244526932680711 with: {'batch_size': 8, 'epochs': 20, 'lr': 0.1}\nMeans: 0.640599274635315, Stdev: 0.02547291577033799 with: {'batch_size': 16, 'epochs': 20, 'lr': 0.001}\nMeans: 0.7044987797737121, Stdev: 0.03503053967324503 with: {'batch_size': 16, 'epochs': 20, 'lr': 0.01}\nMeans: 0.6446226954460144, Stdev: 0.05454331154744129 with: {'batch_size': 16, 'epochs': 20, 'lr': 0.1}\nMeans: 0.6172056794166565, Stdev: 0.0413234607839989 with: {'batch_size': 32, 'epochs': 20, 'lr': 0.001}\nMeans: 0.7004668712615967, Stdev: 0.04347166473492899 with: {'batch_size': 32, 'epochs': 20, 'lr': 0.01}\nMeans: 0.6785247564315796, Stdev: 0.06496020031485383 with: {'batch_size': 32, 'epochs': 20, 'lr': 0.1}\nMeans: 0.6288855075836182, Stdev: 0.048538025589000826 with: {'batch_size': 64, 'epochs': 20, 'lr': 0.001}\nMeans: 0.6797725200653076, Stdev: 0.028296171488550917 with: {'batch_size': 64, 'epochs': 20, 'lr': 0.01}\nMeans: 0.6498599410057068, Stdev: 0.052554247063436435 with: {'batch_size': 64, 'epochs': 20, 'lr': 0.1}\nMeans: 0.5742891073226929, Stdev: 0.057909484449697644 with: {'batch_size': 128, 'epochs': 20, 'lr': 0.001}\nMeans: 0.623775577545166, Stdev: 0.03631698783827807 with: {'batch_size': 128, 'epochs': 20, 'lr': 0.01}\nMeans: 0.653756046295166, Stdev: 0.05261273691745543 with: {'batch_size': 128, 'epochs': 20, 'lr': 0.1}\nMeans: 0.5519905090332031, Stdev: 0.05301228379300721 with: {'batch_size': 256, 'epochs': 20, 'lr': 0.001}\nMeans: 0.5990662932395935, Stdev: 0.07032727557514623 with: {'batch_size': 256, 'epochs': 20, 'lr': 0.01}\nMeans: 0.6563534498214721, Stdev: 0.04830815724980708 with: {'batch_size': 256, 'epochs': 20, 'lr': 0.1}\nMeans: 0.6004244089126587, Stdev: 0.06467566803675297 with: {'batch_size': 512, 'epochs': 20, 'lr': 0.001}\nMeans: 0.6066632747650147, Stdev: 0.04442606434741941 with: {'batch_size': 512, 'epochs': 20, 'lr': 0.01}\nMeans: 0.6433070182800293, Stdev: 0.0373106568980736 with: {'batch_size': 512, 'epochs': 20, 'lr': 0.1}\n"
    }
   ],
   "source": [
    "print_report(grid_result)"
   ]
  },
  {
   "cell_type": "markdown",
   "metadata": {
    "colab_type": "text",
    "id": "gNTBUWd1aLlA"
   },
   "source": [
    "## Momentum\n",
    "\n",
    "Momentum is a hyperparameter that is more commonly associated with Stochastic Gradient Descent. SGD is a common optimizer because it's what people understand and know, but I doubt it will get you the best results, you can try hyperparameter tuning its attributes and see if you can beat the performance from adam. Momentum is a property that decides the willingness of an optimizer to overshoot the minimum. Imagine a ball rolling down one side of a bowl and then up the opposite side a little bit before settling back to the bottom. The purpose of momentum is to try and escale local minima."
   ]
  },
  {
   "cell_type": "markdown",
   "metadata": {
    "colab_type": "text",
    "id": "xnEG-bCJaLnZ"
   },
   "source": [
    "## Activation Functions\n",
    "\n",
    "We've talked about this a little bit, typically you'l want to use ReLU for hidden layers and either Sigmoid, or Softmax for output layers of binary and multi-class classification implementations respectively, but try other activation functions and see if you can get any better results with sigmoid or tanh or something. There are a lot of activation functions that we haven't really talked about. Maybe you'll get good results with them. Maybe you won't. :) <https://keras.io/activations/>"
   ]
  },
  {
   "cell_type": "markdown",
   "metadata": {
    "colab_type": "text",
    "id": "oul9sPq-dU-h"
   },
   "source": [
    "## Network Weight Initialization\n",
    "\n",
    "You saw how big of an effect the way that we initialize our network's weights can have on our results. There are **a lot** of what are called initialization modes. I don't understand all of them, but they can have a big affect on your model's initial accuracy. Your model will get further with less epochs if you initialize it with weights that are well suited to the problem you're trying to solve.\n",
    "\n",
    "`init_mode = ['uniform', 'lecun_uniform', 'normal', 'zero', 'glorot_normal', 'glorot_uniform', 'he_normal', 'he_uniform']`"
   ]
  },
  {
   "cell_type": "markdown",
   "metadata": {
    "colab_type": "text",
    "id": "bqtEuxeQaLqE"
   },
   "source": [
    "## Dropout Regularization and the Weight Constraint\n",
    "\n",
    "the Dropout Regularization value is a percentage of neurons that you want to be randomly deactivated during training. The weight constraint is a second regularization parameter that works in tandem with dropout regularization. You should tune these two values at the same time. \n",
    "\n",
    "Using dropout on visible vs hidden layers might have a different effect. Using dropout on hidden layers might not have any effect while using dropout on hidden layers might have a substantial effect. You don't necessarily need to turn use dropout unless you see that your model has overfitting and generalizability problems."
   ]
  },
  {
   "cell_type": "markdown",
   "metadata": {
    "colab_type": "text",
    "id": "P2c5Cv6oaLtO"
   },
   "source": [
    "## Neurons in Hidden Layer \n",
    "\n",
    "Remember that when we only had a single perceptron our model was only able to fit to linearly separable data, but as we have added layers and nodes to those layers our network has become a powerhouse of fitting nonlinearity in data. The larger the network and the more nodes generally the stronger the network's capacity to fit nonlinear patterns in data. The more nodes and layers the longer it will take to train a network, and higher the probability of overfitting. The larger your network gets the more you'll need dropout regularization or other regularization techniques to keep it in check. \n",
    "\n",
    "Typically depth (more layers) is more important than width (more nodes) for neural networks. This is part of why Deep Learning is so highly touted. Certain deep learning architectures have truly been huge breakthroughs for certain machine learning tasks. \n",
    "\n",
    "You might borrow ideas from other network architectures. For example if I was doing image recognition and I wasn't taking cues from state of the art architectures like resnet, alexnet, googlenet, etc. Then I'm probably going to have to do a lot more experimentation on my own before I find something that works.\n",
    "\n",
    "There are some heuristics, but I am highly skeptical of them. I think you're better off experimenting on your own and forming your own intuition for these kinds of problems. \n",
    "\n",
    "- https://machinelearningmastery.com/how-to-configure-the-number-of-layers-and-nodes-in-a-neural-network/"
   ]
  },
  {
   "cell_type": "markdown",
   "metadata": {},
   "source": [
    "## Challenge\n",
    "You will be expected to tune several hyperparameters in today's module project. "
   ]
  },
  {
   "cell_type": "markdown",
   "metadata": {},
   "source": [
    "# Experiment Tracking Framework (Learn)\n",
    "<a id=\"p2\"></a>"
   ]
  },
  {
   "cell_type": "markdown",
   "metadata": {},
   "source": [
    "## Overview\n",
    "\n",
    "You will notice quickly that managing the results of all the experiments you are running becomes challenging. Which set of parameters did the best? Are my results today different than my results yesterday? Although we use Ipython Notebooks to work, the format is not well suited to logging experimental results. Enter experiment tracking frameworks like [Comet.ml](https://comet.ml) and [Weights and Biases](https://wandb.ai/).\n",
    "\n",
    "Those tools will help you track your experiments, store the results, and the code associated with those experiments. Experimental results can also be readily visualized to see changes in performance across any metric you care about. Data is sent to the tool as each epoch is completed, so you can also see if your model is converging. Let's check out Weights & Biases today. "
   ]
  },
  {
   "cell_type": "markdown",
   "metadata": {},
   "source": [
    "## Follow Along\n",
    "\n",
    "Make sure you login into `wandb` in the terminal before running the next cell. "
   ]
  },
  {
   "cell_type": "code",
   "execution_count": 20,
   "metadata": {},
   "outputs": [],
   "source": [
    "import wandb\n",
    "from wandb.keras import WandbCallback\n",
    "wandb_group = \"ds8\"\n",
    "wandb_project = \"ds13_inclass\""
   ]
  },
  {
   "cell_type": "code",
   "execution_count": 19,
   "metadata": {
    "colab": {
     "base_uri": "https://localhost:8080/",
     "height": 1750
    },
    "colab_type": "code",
    "id": "GMXVfmzXp1Oo",
    "outputId": "b05e251e-508f-46e6-865b-f869ae2a5dc4"
   },
   "outputs": [
    {
     "output_type": "display_data",
     "data": {
      "text/plain": "<IPython.core.display.HTML object>",
      "text/html": "\n                Logging results to <a href=\"https://wandb.com\" target=\"_blank\">Weights & Biases</a> <a href=\"https://docs.wandb.com/integrations/jupyter.html\" target=\"_blank\">(Documentation)</a>.<br/>\n                Project page: <a href=\"https://app.wandb.ai/jwilson1172/lambda\" target=\"_blank\">https://app.wandb.ai/jwilson1172/lambda</a><br/>\n                Run page: <a href=\"https://app.wandb.ai/jwilson1172/lambda/runs/10iduq29\" target=\"_blank\">https://app.wandb.ai/jwilson1172/lambda/runs/10iduq29</a><br/>\n            "
     },
     "metadata": {}
    },
    {
     "output_type": "stream",
     "name": "stderr",
     "text": "\u001b[34m\u001b[1mwandb\u001b[0m: Wandb version 0.8.36 is available!  To upgrade, please run:\n\u001b[34m\u001b[1mwandb\u001b[0m:  $ pip install wandb --upgrade\nEpoch 1/50\n27/27 [==============================] - 0s 9ms/step - loss: 476.6890 - mse: 476.6890 - mae: 20.1168 - val_loss: 442.5558 - val_mse: 442.5558 - val_mae: 18.9560\nEpoch 2/50\n27/27 [==============================] - 0s 6ms/step - loss: 203.3533 - mse: 203.3533 - mae: 11.8175 - val_loss: 94.4901 - val_mse: 94.4901 - val_mae: 7.6396\nEpoch 3/50\n27/27 [==============================] - 0s 6ms/step - loss: 55.5229 - mse: 55.5229 - mae: 5.6338 - val_loss: 58.1739 - val_mse: 58.1739 - val_mae: 5.4106\nEpoch 4/50\n27/27 [==============================] - 0s 6ms/step - loss: 28.2999 - mse: 28.2999 - mae: 3.9149 - val_loss: 34.1186 - val_mse: 34.1186 - val_mae: 3.8661\nEpoch 5/50\n27/27 [==============================] - 0s 7ms/step - loss: 19.8328 - mse: 19.8328 - mae: 3.2423 - val_loss: 29.4552 - val_mse: 29.4552 - val_mae: 3.5551\nEpoch 6/50\n27/27 [==============================] - 0s 8ms/step - loss: 16.7130 - mse: 16.7130 - mae: 2.9564 - val_loss: 26.3339 - val_mse: 26.3339 - val_mae: 3.3685\nEpoch 7/50\n27/27 [==============================] - 0s 6ms/step - loss: 14.3857 - mse: 14.3857 - mae: 2.7663 - val_loss: 24.7357 - val_mse: 24.7357 - val_mae: 3.2671\nEpoch 8/50\n27/27 [==============================] - 0s 7ms/step - loss: 12.8819 - mse: 12.8819 - mae: 2.6487 - val_loss: 22.8261 - val_mse: 22.8261 - val_mae: 3.1413\nEpoch 9/50\n27/27 [==============================] - 0s 8ms/step - loss: 11.7264 - mse: 11.7264 - mae: 2.5360 - val_loss: 20.8268 - val_mse: 20.8268 - val_mae: 3.0105\nEpoch 10/50\n27/27 [==============================] - 0s 7ms/step - loss: 10.9638 - mse: 10.9638 - mae: 2.5085 - val_loss: 20.4116 - val_mse: 20.4116 - val_mae: 3.0042\nEpoch 11/50\n27/27 [==============================] - 0s 7ms/step - loss: 10.0603 - mse: 10.0603 - mae: 2.3846 - val_loss: 18.8626 - val_mse: 18.8626 - val_mae: 2.8737\nEpoch 12/50\n27/27 [==============================] - 0s 5ms/step - loss: 9.7452 - mse: 9.7452 - mae: 2.3716 - val_loss: 19.7382 - val_mse: 19.7382 - val_mae: 2.9597\nEpoch 13/50\n27/27 [==============================] - 0s 6ms/step - loss: 8.9740 - mse: 8.9740 - mae: 2.2412 - val_loss: 17.9661 - val_mse: 17.9661 - val_mae: 2.8191\nEpoch 14/50\n27/27 [==============================] - 0s 6ms/step - loss: 8.8366 - mse: 8.8366 - mae: 2.2762 - val_loss: 17.3154 - val_mse: 17.3154 - val_mae: 2.7628\nEpoch 15/50\n27/27 [==============================] - 0s 7ms/step - loss: 7.8871 - mse: 7.8871 - mae: 2.1273 - val_loss: 16.5661 - val_mse: 16.5661 - val_mae: 2.6687\nEpoch 16/50\n27/27 [==============================] - 0s 5ms/step - loss: 7.6314 - mse: 7.6315 - mae: 2.1021 - val_loss: 16.5861 - val_mse: 16.5861 - val_mae: 2.7158\nEpoch 17/50\n27/27 [==============================] - 0s 6ms/step - loss: 7.3061 - mse: 7.3061 - mae: 2.0543 - val_loss: 15.8265 - val_mse: 15.8265 - val_mae: 2.6570\nEpoch 18/50\n27/27 [==============================] - 0s 5ms/step - loss: 6.9830 - mse: 6.9830 - mae: 2.0032 - val_loss: 16.4139 - val_mse: 16.4139 - val_mae: 2.6752\nEpoch 19/50\n27/27 [==============================] - 0s 5ms/step - loss: 6.7354 - mse: 6.7354 - mae: 1.9580 - val_loss: 15.5639 - val_mse: 15.5639 - val_mae: 2.5776\nEpoch 20/50\n27/27 [==============================] - 0s 6ms/step - loss: 6.8741 - mse: 6.8741 - mae: 2.0104 - val_loss: 15.9579 - val_mse: 15.9579 - val_mae: 2.6334\nEpoch 21/50\n27/27 [==============================] - 0s 6ms/step - loss: 6.3522 - mse: 6.3522 - mae: 1.9099 - val_loss: 15.9020 - val_mse: 15.9020 - val_mae: 2.6489\nEpoch 22/50\n27/27 [==============================] - 0s 4ms/step - loss: 6.2251 - mse: 6.2251 - mae: 1.8715 - val_loss: 15.8873 - val_mse: 15.8873 - val_mae: 2.6275\nEpoch 23/50\n27/27 [==============================] - 0s 7ms/step - loss: 6.0980 - mse: 6.0980 - mae: 1.8638 - val_loss: 15.3134 - val_mse: 15.3134 - val_mae: 2.5690\nEpoch 24/50\n27/27 [==============================] - 0s 6ms/step - loss: 5.8070 - mse: 5.8070 - mae: 1.8034 - val_loss: 15.0236 - val_mse: 15.0236 - val_mae: 2.5432\nEpoch 25/50\n27/27 [==============================] - 0s 6ms/step - loss: 5.9214 - mse: 5.9214 - mae: 1.8322 - val_loss: 14.9481 - val_mse: 14.9481 - val_mae: 2.5353\nEpoch 26/50\n27/27 [==============================] - 0s 6ms/step - loss: 5.7128 - mse: 5.7128 - mae: 1.7990 - val_loss: 15.5828 - val_mse: 15.5828 - val_mae: 2.6669\nEpoch 27/50\n27/27 [==============================] - 0s 6ms/step - loss: 5.7889 - mse: 5.7889 - mae: 1.8154 - val_loss: 14.8161 - val_mse: 14.8161 - val_mae: 2.5810\nEpoch 28/50\n27/27 [==============================] - 0s 5ms/step - loss: 5.4294 - mse: 5.4294 - mae: 1.7511 - val_loss: 15.0567 - val_mse: 15.0567 - val_mae: 2.6056\nEpoch 29/50\n27/27 [==============================] - 0s 5ms/step - loss: 5.3739 - mse: 5.3739 - mae: 1.7363 - val_loss: 14.8744 - val_mse: 14.8744 - val_mae: 2.5886\nEpoch 30/50\n27/27 [==============================] - 0s 5ms/step - loss: 5.2922 - mse: 5.2922 - mae: 1.7289 - val_loss: 15.0780 - val_mse: 15.0780 - val_mae: 2.5853\nEpoch 31/50\n27/27 [==============================] - 0s 6ms/step - loss: 4.8646 - mse: 4.8646 - mae: 1.6293 - val_loss: 14.7261 - val_mse: 14.7261 - val_mae: 2.5603\nEpoch 32/50\n27/27 [==============================] - 0s 4ms/step - loss: 5.0801 - mse: 5.0801 - mae: 1.6910 - val_loss: 14.9134 - val_mse: 14.9134 - val_mae: 2.5558\nEpoch 33/50\n27/27 [==============================] - 0s 4ms/step - loss: 4.7654 - mse: 4.7654 - mae: 1.6178 - val_loss: 15.0208 - val_mse: 15.0208 - val_mae: 2.5376\nEpoch 34/50\n27/27 [==============================] - 0s 5ms/step - loss: 4.8470 - mse: 4.8470 - mae: 1.6214 - val_loss: 14.9892 - val_mse: 14.9892 - val_mae: 2.5651\nEpoch 35/50\n27/27 [==============================] - 0s 5ms/step - loss: 4.9908 - mse: 4.9908 - mae: 1.6194 - val_loss: 15.7038 - val_mse: 15.7038 - val_mae: 2.6004\nEpoch 36/50\n27/27 [==============================] - 0s 6ms/step - loss: 4.5948 - mse: 4.5948 - mae: 1.6044 - val_loss: 14.4541 - val_mse: 14.4541 - val_mae: 2.5573\nEpoch 37/50\n27/27 [==============================] - 0s 5ms/step - loss: 5.3632 - mse: 5.3632 - mae: 1.6999 - val_loss: 14.9767 - val_mse: 14.9767 - val_mae: 2.6591\nEpoch 38/50\n27/27 [==============================] - 0s 7ms/step - loss: 5.3503 - mse: 5.3503 - mae: 1.7692 - val_loss: 14.3835 - val_mse: 14.3835 - val_mae: 2.5641\nEpoch 39/50\n27/27 [==============================] - 0s 6ms/step - loss: 4.2708 - mse: 4.2708 - mae: 1.5486 - val_loss: 14.5642 - val_mse: 14.5642 - val_mae: 2.5369\nEpoch 40/50\n27/27 [==============================] - 0s 5ms/step - loss: 4.4409 - mse: 4.4409 - mae: 1.5858 - val_loss: 14.9826 - val_mse: 14.9826 - val_mae: 2.5497\nEpoch 41/50\n27/27 [==============================] - 0s 5ms/step - loss: 4.2862 - mse: 4.2862 - mae: 1.5532 - val_loss: 14.3931 - val_mse: 14.3931 - val_mae: 2.4923\nEpoch 42/50\n27/27 [==============================] - 0s 7ms/step - loss: 4.1387 - mse: 4.1387 - mae: 1.4812 - val_loss: 14.2797 - val_mse: 14.2797 - val_mae: 2.5217\nEpoch 43/50\n27/27 [==============================] - 0s 5ms/step - loss: 4.2695 - mse: 4.2695 - mae: 1.5123 - val_loss: 15.1157 - val_mse: 15.1157 - val_mae: 2.5894\nEpoch 44/50\n27/27 [==============================] - 0s 5ms/step - loss: 4.2680 - mse: 4.2680 - mae: 1.4934 - val_loss: 14.4139 - val_mse: 14.4139 - val_mae: 2.5616\nEpoch 45/50\n27/27 [==============================] - 0s 7ms/step - loss: 3.9779 - mse: 3.9779 - mae: 1.5262 - val_loss: 14.2456 - val_mse: 14.2456 - val_mae: 2.5010\nEpoch 46/50\n27/27 [==============================] - 0s 5ms/step - loss: 3.8258 - mse: 3.8258 - mae: 1.4471 - val_loss: 14.2032 - val_mse: 14.2032 - val_mae: 2.5233\nEpoch 47/50\n27/27 [==============================] - 0s 7ms/step - loss: 4.0682 - mse: 4.0682 - mae: 1.5153 - val_loss: 14.1531 - val_mse: 14.1531 - val_mae: 2.5501\nEpoch 48/50\n27/27 [==============================] - 0s 5ms/step - loss: 3.8095 - mse: 3.8095 - mae: 1.4342 - val_loss: 14.1779 - val_mse: 14.1779 - val_mae: 2.5340\nEpoch 49/50\n27/27 [==============================] - 0s 6ms/step - loss: 3.5858 - mse: 3.5858 - mae: 1.3891 - val_loss: 14.0935 - val_mse: 14.0935 - val_mae: 2.5108\nEpoch 50/50\n27/27 [==============================] - 0s 5ms/step - loss: 3.7553 - mse: 3.7553 - mae: 1.4287 - val_loss: 14.3295 - val_mse: 14.3295 - val_mae: 2.5385\n"
    },
    {
     "output_type": "execute_result",
     "data": {
      "text/plain": "<tensorflow.python.keras.callbacks.History at 0x7fb1969ab6d0>"
     },
     "metadata": {},
     "execution_count": 19
    }
   ],
   "source": [
    "wandb.init(project=wandb_project, entity=wandb_group) #Initializes and Experiment\n",
    "\n",
    "# Important Hyperparameters\n",
    "X =  x_train\n",
    "y =  y_train\n",
    "\n",
    "inputs = X.shape[1]\n",
    "wandb.config.epochs = 50\n",
    "wandb.config.batch_size = 10\n",
    "\n",
    "# Create Model\n",
    "model = Sequential()\n",
    "model.add(Dense(64, activation='relu', input_shape=(inputs,)))\n",
    "model.add(Dense(64, activation='relu'))\n",
    "model.add(Dense(64, activation='relu'))\n",
    "model.add(Dense(1))\n",
    "# Compile Model\n",
    "model.compile(optimizer='adam', loss='mse', metrics=['mse', 'mae'])\n",
    "\n",
    "# Fit Model\n",
    "model.fit(X, y, \n",
    "          validation_split=0.33, \n",
    "          epochs=wandb.config.epochs, \n",
    "          batch_size=wandb.config.batch_size, \n",
    "          callbacks=[WandbCallback()]\n",
    "         )"
   ]
  },
  {
   "cell_type": "markdown",
   "metadata": {},
   "source": [
    "### Your Turn\n",
    "\n",
    "Pick a few hyparameters that we *have not* tuned. Using the same code above, try changing a few parameters you're interested in and submitting the results to weights & biases. :) "
   ]
  },
  {
   "cell_type": "code",
   "execution_count": null,
   "metadata": {},
   "outputs": [],
   "source": []
  },
  {
   "cell_type": "code",
   "execution_count": 22,
   "metadata": {},
   "outputs": [
    {
     "output_type": "display_data",
     "data": {
      "text/plain": "<IPython.core.display.HTML object>",
      "text/html": "\n                Logging results to <a href=\"https://wandb.com\" target=\"_blank\">Weights & Biases</a> <a href=\"https://docs.wandb.com/integrations/jupyter.html\" target=\"_blank\">(Documentation)</a>.<br/>\n                Project page: <a href=\"https://app.wandb.ai/ds8/ds13_inclass\" target=\"_blank\">https://app.wandb.ai/ds8/ds13_inclass</a><br/>\n                Run page: <a href=\"https://app.wandb.ai/ds8/ds13_inclass/runs/27b2m3s5\" target=\"_blank\">https://app.wandb.ai/ds8/ds13_inclass/runs/27b2m3s5</a><br/>\n            "
     },
     "metadata": {}
    },
    {
     "output_type": "stream",
     "name": "stderr",
     "text": "\u001b[34m\u001b[1mwandb\u001b[0m: Wandb version 0.8.36 is available!  To upgrade, please run:\n\u001b[34m\u001b[1mwandb\u001b[0m:  $ pip install wandb --upgrade\n"
    },
    {
     "output_type": "error",
     "ename": "ValueError",
     "evalue": "Found input variables with inconsistent numbers of samples: [404, 768]",
     "traceback": [
      "\u001b[0;31m---------------------------------------------------------------------------\u001b[0m",
      "\u001b[0;31mValueError\u001b[0m                                Traceback (most recent call last)",
      "\u001b[0;32m<ipython-input-22-dd9858586392>\u001b[0m in \u001b[0;36m<module>\u001b[0;34m\u001b[0m\n\u001b[1;32m     27\u001b[0m \u001b[0;31m# Create Grid Search\u001b[0m\u001b[0;34m\u001b[0m\u001b[0;34m\u001b[0m\u001b[0;34m\u001b[0m\u001b[0m\n\u001b[1;32m     28\u001b[0m \u001b[0mgrid\u001b[0m \u001b[0;34m=\u001b[0m \u001b[0mGridSearchCV\u001b[0m\u001b[0;34m(\u001b[0m\u001b[0mestimator\u001b[0m\u001b[0;34m=\u001b[0m\u001b[0mmodel\u001b[0m\u001b[0;34m,\u001b[0m \u001b[0mparam_grid\u001b[0m\u001b[0;34m=\u001b[0m\u001b[0mparam_grid\u001b[0m\u001b[0;34m,\u001b[0m \u001b[0mn_jobs\u001b[0m\u001b[0;34m=\u001b[0m\u001b[0;34m-\u001b[0m\u001b[0;36m1\u001b[0m\u001b[0;34m)\u001b[0m\u001b[0;34m\u001b[0m\u001b[0;34m\u001b[0m\u001b[0m\n\u001b[0;32m---> 29\u001b[0;31m \u001b[0mgrid_result\u001b[0m \u001b[0;34m=\u001b[0m \u001b[0mgrid\u001b[0m\u001b[0;34m.\u001b[0m\u001b[0mfit\u001b[0m\u001b[0;34m(\u001b[0m\u001b[0mX\u001b[0m\u001b[0;34m,\u001b[0m \u001b[0mY\u001b[0m\u001b[0;34m,\u001b[0m \u001b[0mcallbacks\u001b[0m\u001b[0;34m=\u001b[0m\u001b[0;34m[\u001b[0m\u001b[0mWandbCallback\u001b[0m\u001b[0;34m(\u001b[0m\u001b[0;34m)\u001b[0m\u001b[0;34m]\u001b[0m\u001b[0;34m)\u001b[0m\u001b[0;34m\u001b[0m\u001b[0;34m\u001b[0m\u001b[0m\n\u001b[0m",
      "\u001b[0;32m/opt/conda/envs/intro_nn/lib/python3.7/site-packages/sklearn/model_selection/_search.py\u001b[0m in \u001b[0;36mfit\u001b[0;34m(self, X, y, groups, **fit_params)\u001b[0m\n\u001b[1;32m    648\u001b[0m             \u001b[0mrefit_metric\u001b[0m \u001b[0;34m=\u001b[0m \u001b[0;34m'score'\u001b[0m\u001b[0;34m\u001b[0m\u001b[0;34m\u001b[0m\u001b[0m\n\u001b[1;32m    649\u001b[0m \u001b[0;34m\u001b[0m\u001b[0m\n\u001b[0;32m--> 650\u001b[0;31m         \u001b[0mX\u001b[0m\u001b[0;34m,\u001b[0m \u001b[0my\u001b[0m\u001b[0;34m,\u001b[0m \u001b[0mgroups\u001b[0m \u001b[0;34m=\u001b[0m \u001b[0mindexable\u001b[0m\u001b[0;34m(\u001b[0m\u001b[0mX\u001b[0m\u001b[0;34m,\u001b[0m \u001b[0my\u001b[0m\u001b[0;34m,\u001b[0m \u001b[0mgroups\u001b[0m\u001b[0;34m)\u001b[0m\u001b[0;34m\u001b[0m\u001b[0;34m\u001b[0m\u001b[0m\n\u001b[0m\u001b[1;32m    651\u001b[0m         \u001b[0mfit_params\u001b[0m \u001b[0;34m=\u001b[0m \u001b[0m_check_fit_params\u001b[0m\u001b[0;34m(\u001b[0m\u001b[0mX\u001b[0m\u001b[0;34m,\u001b[0m \u001b[0mfit_params\u001b[0m\u001b[0;34m)\u001b[0m\u001b[0;34m\u001b[0m\u001b[0;34m\u001b[0m\u001b[0m\n\u001b[1;32m    652\u001b[0m \u001b[0;34m\u001b[0m\u001b[0m\n",
      "\u001b[0;32m/opt/conda/envs/intro_nn/lib/python3.7/site-packages/sklearn/utils/validation.py\u001b[0m in \u001b[0;36mindexable\u001b[0;34m(*iterables)\u001b[0m\n\u001b[1;32m    246\u001b[0m     \"\"\"\n\u001b[1;32m    247\u001b[0m     \u001b[0mresult\u001b[0m \u001b[0;34m=\u001b[0m \u001b[0;34m[\u001b[0m\u001b[0m_make_indexable\u001b[0m\u001b[0;34m(\u001b[0m\u001b[0mX\u001b[0m\u001b[0;34m)\u001b[0m \u001b[0;32mfor\u001b[0m \u001b[0mX\u001b[0m \u001b[0;32min\u001b[0m \u001b[0miterables\u001b[0m\u001b[0;34m]\u001b[0m\u001b[0;34m\u001b[0m\u001b[0;34m\u001b[0m\u001b[0m\n\u001b[0;32m--> 248\u001b[0;31m     \u001b[0mcheck_consistent_length\u001b[0m\u001b[0;34m(\u001b[0m\u001b[0;34m*\u001b[0m\u001b[0mresult\u001b[0m\u001b[0;34m)\u001b[0m\u001b[0;34m\u001b[0m\u001b[0;34m\u001b[0m\u001b[0m\n\u001b[0m\u001b[1;32m    249\u001b[0m     \u001b[0;32mreturn\u001b[0m \u001b[0mresult\u001b[0m\u001b[0;34m\u001b[0m\u001b[0;34m\u001b[0m\u001b[0m\n\u001b[1;32m    250\u001b[0m \u001b[0;34m\u001b[0m\u001b[0m\n",
      "\u001b[0;32m/opt/conda/envs/intro_nn/lib/python3.7/site-packages/sklearn/utils/validation.py\u001b[0m in \u001b[0;36mcheck_consistent_length\u001b[0;34m(*arrays)\u001b[0m\n\u001b[1;32m    210\u001b[0m     \u001b[0;32mif\u001b[0m \u001b[0mlen\u001b[0m\u001b[0;34m(\u001b[0m\u001b[0muniques\u001b[0m\u001b[0;34m)\u001b[0m \u001b[0;34m>\u001b[0m \u001b[0;36m1\u001b[0m\u001b[0;34m:\u001b[0m\u001b[0;34m\u001b[0m\u001b[0;34m\u001b[0m\u001b[0m\n\u001b[1;32m    211\u001b[0m         raise ValueError(\"Found input variables with inconsistent numbers of\"\n\u001b[0;32m--> 212\u001b[0;31m                          \" samples: %r\" % [int(l) for l in lengths])\n\u001b[0m\u001b[1;32m    213\u001b[0m \u001b[0;34m\u001b[0m\u001b[0m\n\u001b[1;32m    214\u001b[0m \u001b[0;34m\u001b[0m\u001b[0m\n",
      "\u001b[0;31mValueError\u001b[0m: Found input variables with inconsistent numbers of samples: [404, 768]"
     ]
    }
   ],
   "source": [
    "from tensorflow.keras.optimizers import RMSprop\n",
    "from tensorflow.keras.wrappers.scikit_learn import KerasClassifier\n",
    "\n",
    "wandb.init(project=wandb_project, entity=wandb_group) #Initializes and Experiment\n",
    "\n",
    "wandb.config.epochs = 20\n",
    "wandb.config.batch_size = 32\n",
    "\n",
    "def build_model(rms_prop,nodes,act):\n",
    "    opt = RMSprop(rms_prop)\n",
    "    model = Sequential()\n",
    "    model.add(Dense(nodes, activation=act, input_shape=(inputs,)))\n",
    "    model.add(Dense(nodes, activation=act))\n",
    "    model.add(Dense(nodes, activation=act))\n",
    "    model.add(Dense(1))\n",
    "    model.compile(optimizer=RSM, loss='mse', metrics=['mse', 'mae'])\n",
    "\n",
    "model = KerasClassifier(build_fn=create_model, verbose=0)\n",
    "\n",
    "\n",
    "# define the grid search parameters\n",
    "param_grid = {'rms_prop': [0.01,0.001,0.1],\n",
    "              'nodes': [16,32,64],\n",
    "              'act': ['relu','selu'],\n",
    "              'epochs': [20]}\n",
    "\n",
    "# Create Grid Search\n",
    "grid = GridSearchCV(estimator=model, param_grid=param_grid, n_jobs=-1)\n",
    "grid_result = grid.fit(X, Y, callbacks=[WandbCallback()])\n"
   ]
  },
  {
   "cell_type": "markdown",
   "metadata": {},
   "source": [
    "## Challenge\n",
    "\n",
    "You will be expected to use Weights & Biases to try to tune your model during your module assignment today. "
   ]
  },
  {
   "cell_type": "markdown",
   "metadata": {},
   "source": [
    "# Hyperparameters with RandomSearchCV (Learn)"
   ]
  },
  {
   "cell_type": "markdown",
   "metadata": {},
   "source": [
    "## Overview\n",
    "\n",
    "Basically `GridSearchCV` takes forever. You'll want to adopt a slightly more sophiscated strategy.\n",
    "\n",
    "Let's also take a look at an alternative with Keras-Tuner."
   ]
  },
  {
   "cell_type": "code",
   "execution_count": null,
   "metadata": {},
   "outputs": [],
   "source": [
    "!pip install keras-tuner"
   ]
  },
  {
   "cell_type": "markdown",
   "metadata": {},
   "source": [
    "## Follow Along"
   ]
  },
  {
   "cell_type": "code",
   "execution_count": 28,
   "metadata": {},
   "outputs": [],
   "source": [
    "from tensorflow import keras\n",
    "from tensorflow.keras import layers\n",
    "from kerastuner.tuners import RandomSearch\n",
    "\n",
    "\"\"\"\n",
    "This model Tunes:\n",
    "- Number of Neurons in the Hidden Layer\n",
    "- Learning Rate in Adam\n",
    "\n",
    "\"\"\"\n",
    "\n",
    "def build_model(hp):\n",
    "    model = keras.Sequential()\n",
    "    model.add(layers.Dense(units=hp.Int('units',\n",
    "                                        min_value=32,\n",
    "                                        max_value=512,\n",
    "                                        step=32),\n",
    "                           activation='relu'))\n",
    "    model.add(layers.Dense(10, activation='softmax'))\n",
    "    model.compile(\n",
    "        optimizer=keras.optimizers.Adam(\n",
    "            hp.Choice('learning_rate',\n",
    "                      values=[1e-2, 1e-3, 1e-4])),\n",
    "        loss='sparse_categorical_crossentropy',\n",
    "        metrics=['accuracy'])\n",
    "    \n",
    "    return model"
   ]
  },
  {
   "cell_type": "code",
   "execution_count": 29,
   "metadata": {},
   "outputs": [
    {
     "output_type": "stream",
     "name": "stdout",
     "text": "INFO:tensorflow:Reloading Oracle from existing project ./keras-tuner-trial/helloworld/oracle.json\n"
    }
   ],
   "source": [
    "tuner = RandomSearch(\n",
    "    build_model,\n",
    "    objective='val_loss',\n",
    "    max_trials=5,\n",
    "    executions_per_trial=3,\n",
    "    directory='./keras-tuner-trial',\n",
    "    project_name='helloworld')"
   ]
  },
  {
   "cell_type": "code",
   "execution_count": 30,
   "metadata": {},
   "outputs": [
    {
     "output_type": "display_data",
     "data": {
      "text/plain": "<IPython.core.display.HTML object>",
      "text/html": "<span style=\"color:#4527A0\"><h1 style=\"font-size:18px\">Search space summary</h1></span>"
     },
     "metadata": {}
    },
    {
     "output_type": "display_data",
     "data": {
      "text/plain": "<IPython.core.display.HTML object>",
      "text/html": "<span style=\"color:cyan\"> |-Default search space size: 2</span>"
     },
     "metadata": {}
    },
    {
     "output_type": "display_data",
     "data": {
      "text/plain": "<IPython.core.display.HTML object>",
      "text/html": "<span style=\"color:#7E57C2\"><h2 style=\"font-size:16px\">units (Int)</h2></span>"
     },
     "metadata": {}
    },
    {
     "output_type": "display_data",
     "data": {
      "text/plain": "<IPython.core.display.HTML object>",
      "text/html": "<span style=\"color:cyan\"> |-default: None</span>"
     },
     "metadata": {}
    },
    {
     "output_type": "display_data",
     "data": {
      "text/plain": "<IPython.core.display.HTML object>",
      "text/html": "<span style=\"color:blue\"> |-max_value: 512</span>"
     },
     "metadata": {}
    },
    {
     "output_type": "display_data",
     "data": {
      "text/plain": "<IPython.core.display.HTML object>",
      "text/html": "<span style=\"color:cyan\"> |-min_value: 32</span>"
     },
     "metadata": {}
    },
    {
     "output_type": "display_data",
     "data": {
      "text/plain": "<IPython.core.display.HTML object>",
      "text/html": "<span style=\"color:blue\"> |-sampling: None</span>"
     },
     "metadata": {}
    },
    {
     "output_type": "display_data",
     "data": {
      "text/plain": "<IPython.core.display.HTML object>",
      "text/html": "<span style=\"color:cyan\"> |-step: 32</span>"
     },
     "metadata": {}
    },
    {
     "output_type": "display_data",
     "data": {
      "text/plain": "<IPython.core.display.HTML object>",
      "text/html": "<span style=\"color:#7E57C2\"><h2 style=\"font-size:16px\">learning_rate (Choice)</h2></span>"
     },
     "metadata": {}
    },
    {
     "output_type": "display_data",
     "data": {
      "text/plain": "<IPython.core.display.HTML object>",
      "text/html": "<span style=\"color:cyan\"> |-default: 0.01</span>"
     },
     "metadata": {}
    },
    {
     "output_type": "display_data",
     "data": {
      "text/plain": "<IPython.core.display.HTML object>",
      "text/html": "<span style=\"color:blue\"> |-ordered: True</span>"
     },
     "metadata": {}
    },
    {
     "output_type": "display_data",
     "data": {
      "text/plain": "<IPython.core.display.HTML object>",
      "text/html": "<span style=\"color:cyan\"> |-values: [0.01, 0.001, 0.0001]</span>"
     },
     "metadata": {}
    }
   ],
   "source": [
    "tuner.search_space_summary()"
   ]
  },
  {
   "cell_type": "code",
   "execution_count": 31,
   "metadata": {},
   "outputs": [
    {
     "output_type": "stream",
     "name": "stdout",
     "text": "Epoch 1/5\nWARNING:tensorflow:Layer dense is casting an input tensor from dtype float64 to the layer's dtype of float32, which is new behavior in TensorFlow 2.  The layer has dtype float32 because it's dtype defaults to floatx.\n\nIf you intended to run this layer in float32, you can safely ignore this warning. If in doubt, this warning is likely only an issue if you are porting a TensorFlow 1.X model to TensorFlow 2.\n\nTo change all layers to have dtype float64 by default, call `tf.keras.backend.set_floatx('float64')`. To change just this layer, pass dtype='float64' to the layer constructor. If you are the author of this layer, you can disable autocasting by passing autocast=False to the base Layer constructor.\n\n"
    },
    {
     "output_type": "error",
     "ename": "InvalidArgumentError",
     "evalue": " Received a label value of 38 which is outside the valid range of [0, 10).  Label values: 36 10 10 22 10 13 11 8 26 20 15 20 33 19 17 19 38 16 14 26 11 23 13 12 22 22 25 19 20 20 14 21\n\t [[node sparse_categorical_crossentropy/SparseSoftmaxCrossEntropyWithLogits/SparseSoftmaxCrossEntropyWithLogits (defined at /opt/conda/envs/intro_nn/lib/python3.7/site-packages/kerastuner/engine/multi_execution_tuner.py:96) ]] [Op:__inference_train_function_91382]\n\nFunction call stack:\ntrain_function\n",
     "traceback": [
      "\u001b[0;31m---------------------------------------------------------------------------\u001b[0m",
      "\u001b[0;31mInvalidArgumentError\u001b[0m                      Traceback (most recent call last)",
      "\u001b[0;32m<ipython-input-31-24f921bdc8b0>\u001b[0m in \u001b[0;36m<module>\u001b[0;34m\u001b[0m\n\u001b[1;32m      1\u001b[0m tuner.search(X, y,\n\u001b[1;32m      2\u001b[0m              \u001b[0mepochs\u001b[0m\u001b[0;34m=\u001b[0m\u001b[0;36m5\u001b[0m\u001b[0;34m,\u001b[0m\u001b[0;34m\u001b[0m\u001b[0;34m\u001b[0m\u001b[0m\n\u001b[0;32m----> 3\u001b[0;31m              validation_split=0.15)\n\u001b[0m",
      "\u001b[0;32m/opt/conda/envs/intro_nn/lib/python3.7/site-packages/kerastuner/engine/base_tuner.py\u001b[0m in \u001b[0;36msearch\u001b[0;34m(self, *fit_args, **fit_kwargs)\u001b[0m\n\u001b[1;32m    128\u001b[0m \u001b[0;34m\u001b[0m\u001b[0m\n\u001b[1;32m    129\u001b[0m             \u001b[0mself\u001b[0m\u001b[0;34m.\u001b[0m\u001b[0mon_trial_begin\u001b[0m\u001b[0;34m(\u001b[0m\u001b[0mtrial\u001b[0m\u001b[0;34m)\u001b[0m\u001b[0;34m\u001b[0m\u001b[0;34m\u001b[0m\u001b[0m\n\u001b[0;32m--> 130\u001b[0;31m             \u001b[0mself\u001b[0m\u001b[0;34m.\u001b[0m\u001b[0mrun_trial\u001b[0m\u001b[0;34m(\u001b[0m\u001b[0mtrial\u001b[0m\u001b[0;34m,\u001b[0m \u001b[0;34m*\u001b[0m\u001b[0mfit_args\u001b[0m\u001b[0;34m,\u001b[0m \u001b[0;34m**\u001b[0m\u001b[0mfit_kwargs\u001b[0m\u001b[0;34m)\u001b[0m\u001b[0;34m\u001b[0m\u001b[0;34m\u001b[0m\u001b[0m\n\u001b[0m\u001b[1;32m    131\u001b[0m             \u001b[0mself\u001b[0m\u001b[0;34m.\u001b[0m\u001b[0mon_trial_end\u001b[0m\u001b[0;34m(\u001b[0m\u001b[0mtrial\u001b[0m\u001b[0;34m)\u001b[0m\u001b[0;34m\u001b[0m\u001b[0;34m\u001b[0m\u001b[0m\n\u001b[1;32m    132\u001b[0m         \u001b[0mself\u001b[0m\u001b[0;34m.\u001b[0m\u001b[0mon_search_end\u001b[0m\u001b[0;34m(\u001b[0m\u001b[0;34m)\u001b[0m\u001b[0;34m\u001b[0m\u001b[0;34m\u001b[0m\u001b[0m\n",
      "\u001b[0;32m/opt/conda/envs/intro_nn/lib/python3.7/site-packages/kerastuner/engine/multi_execution_tuner.py\u001b[0m in \u001b[0;36mrun_trial\u001b[0;34m(self, trial, *fit_args, **fit_kwargs)\u001b[0m\n\u001b[1;32m     94\u001b[0m \u001b[0;34m\u001b[0m\u001b[0m\n\u001b[1;32m     95\u001b[0m             \u001b[0mmodel\u001b[0m \u001b[0;34m=\u001b[0m \u001b[0mself\u001b[0m\u001b[0;34m.\u001b[0m\u001b[0mhypermodel\u001b[0m\u001b[0;34m.\u001b[0m\u001b[0mbuild\u001b[0m\u001b[0;34m(\u001b[0m\u001b[0mtrial\u001b[0m\u001b[0;34m.\u001b[0m\u001b[0mhyperparameters\u001b[0m\u001b[0;34m)\u001b[0m\u001b[0;34m\u001b[0m\u001b[0;34m\u001b[0m\u001b[0m\n\u001b[0;32m---> 96\u001b[0;31m             \u001b[0mhistory\u001b[0m \u001b[0;34m=\u001b[0m \u001b[0mmodel\u001b[0m\u001b[0;34m.\u001b[0m\u001b[0mfit\u001b[0m\u001b[0;34m(\u001b[0m\u001b[0;34m*\u001b[0m\u001b[0mfit_args\u001b[0m\u001b[0;34m,\u001b[0m \u001b[0;34m**\u001b[0m\u001b[0mcopied_fit_kwargs\u001b[0m\u001b[0;34m)\u001b[0m\u001b[0;34m\u001b[0m\u001b[0;34m\u001b[0m\u001b[0m\n\u001b[0m\u001b[1;32m     97\u001b[0m             \u001b[0;32mfor\u001b[0m \u001b[0mmetric\u001b[0m\u001b[0;34m,\u001b[0m \u001b[0mepoch_values\u001b[0m \u001b[0;32min\u001b[0m \u001b[0mhistory\u001b[0m\u001b[0;34m.\u001b[0m\u001b[0mhistory\u001b[0m\u001b[0;34m.\u001b[0m\u001b[0mitems\u001b[0m\u001b[0;34m(\u001b[0m\u001b[0;34m)\u001b[0m\u001b[0;34m:\u001b[0m\u001b[0;34m\u001b[0m\u001b[0;34m\u001b[0m\u001b[0m\n\u001b[1;32m     98\u001b[0m                 \u001b[0;32mif\u001b[0m \u001b[0mself\u001b[0m\u001b[0;34m.\u001b[0m\u001b[0moracle\u001b[0m\u001b[0;34m.\u001b[0m\u001b[0mobjective\u001b[0m\u001b[0;34m.\u001b[0m\u001b[0mdirection\u001b[0m \u001b[0;34m==\u001b[0m \u001b[0;34m'min'\u001b[0m\u001b[0;34m:\u001b[0m\u001b[0;34m\u001b[0m\u001b[0;34m\u001b[0m\u001b[0m\n",
      "\u001b[0;32m/opt/conda/envs/intro_nn/lib/python3.7/site-packages/tensorflow/python/keras/engine/training.py\u001b[0m in \u001b[0;36m_method_wrapper\u001b[0;34m(self, *args, **kwargs)\u001b[0m\n\u001b[1;32m     64\u001b[0m   \u001b[0;32mdef\u001b[0m \u001b[0m_method_wrapper\u001b[0m\u001b[0;34m(\u001b[0m\u001b[0mself\u001b[0m\u001b[0;34m,\u001b[0m \u001b[0;34m*\u001b[0m\u001b[0margs\u001b[0m\u001b[0;34m,\u001b[0m \u001b[0;34m**\u001b[0m\u001b[0mkwargs\u001b[0m\u001b[0;34m)\u001b[0m\u001b[0;34m:\u001b[0m\u001b[0;34m\u001b[0m\u001b[0;34m\u001b[0m\u001b[0m\n\u001b[1;32m     65\u001b[0m     \u001b[0;32mif\u001b[0m \u001b[0;32mnot\u001b[0m \u001b[0mself\u001b[0m\u001b[0;34m.\u001b[0m\u001b[0m_in_multi_worker_mode\u001b[0m\u001b[0;34m(\u001b[0m\u001b[0;34m)\u001b[0m\u001b[0;34m:\u001b[0m  \u001b[0;31m# pylint: disable=protected-access\u001b[0m\u001b[0;34m\u001b[0m\u001b[0;34m\u001b[0m\u001b[0m\n\u001b[0;32m---> 66\u001b[0;31m       \u001b[0;32mreturn\u001b[0m \u001b[0mmethod\u001b[0m\u001b[0;34m(\u001b[0m\u001b[0mself\u001b[0m\u001b[0;34m,\u001b[0m \u001b[0;34m*\u001b[0m\u001b[0margs\u001b[0m\u001b[0;34m,\u001b[0m \u001b[0;34m**\u001b[0m\u001b[0mkwargs\u001b[0m\u001b[0;34m)\u001b[0m\u001b[0;34m\u001b[0m\u001b[0;34m\u001b[0m\u001b[0m\n\u001b[0m\u001b[1;32m     67\u001b[0m \u001b[0;34m\u001b[0m\u001b[0m\n\u001b[1;32m     68\u001b[0m     \u001b[0;31m# Running inside `run_distribute_coordinator` already.\u001b[0m\u001b[0;34m\u001b[0m\u001b[0;34m\u001b[0m\u001b[0;34m\u001b[0m\u001b[0m\n",
      "\u001b[0;32m/opt/conda/envs/intro_nn/lib/python3.7/site-packages/tensorflow/python/keras/engine/training.py\u001b[0m in \u001b[0;36mfit\u001b[0;34m(self, x, y, batch_size, epochs, verbose, callbacks, validation_split, validation_data, shuffle, class_weight, sample_weight, initial_epoch, steps_per_epoch, validation_steps, validation_batch_size, validation_freq, max_queue_size, workers, use_multiprocessing)\u001b[0m\n\u001b[1;32m    846\u001b[0m                 batch_size=batch_size):\n\u001b[1;32m    847\u001b[0m               \u001b[0mcallbacks\u001b[0m\u001b[0;34m.\u001b[0m\u001b[0mon_train_batch_begin\u001b[0m\u001b[0;34m(\u001b[0m\u001b[0mstep\u001b[0m\u001b[0;34m)\u001b[0m\u001b[0;34m\u001b[0m\u001b[0;34m\u001b[0m\u001b[0m\n\u001b[0;32m--> 848\u001b[0;31m               \u001b[0mtmp_logs\u001b[0m \u001b[0;34m=\u001b[0m \u001b[0mtrain_function\u001b[0m\u001b[0;34m(\u001b[0m\u001b[0miterator\u001b[0m\u001b[0;34m)\u001b[0m\u001b[0;34m\u001b[0m\u001b[0;34m\u001b[0m\u001b[0m\n\u001b[0m\u001b[1;32m    849\u001b[0m               \u001b[0;31m# Catch OutOfRangeError for Datasets of unknown size.\u001b[0m\u001b[0;34m\u001b[0m\u001b[0;34m\u001b[0m\u001b[0;34m\u001b[0m\u001b[0m\n\u001b[1;32m    850\u001b[0m               \u001b[0;31m# This blocks until the batch has finished executing.\u001b[0m\u001b[0;34m\u001b[0m\u001b[0;34m\u001b[0m\u001b[0;34m\u001b[0m\u001b[0m\n",
      "\u001b[0;32m/opt/conda/envs/intro_nn/lib/python3.7/site-packages/tensorflow/python/eager/def_function.py\u001b[0m in \u001b[0;36m__call__\u001b[0;34m(self, *args, **kwds)\u001b[0m\n\u001b[1;32m    578\u001b[0m         \u001b[0mxla_context\u001b[0m\u001b[0;34m.\u001b[0m\u001b[0mExit\u001b[0m\u001b[0;34m(\u001b[0m\u001b[0;34m)\u001b[0m\u001b[0;34m\u001b[0m\u001b[0;34m\u001b[0m\u001b[0m\n\u001b[1;32m    579\u001b[0m     \u001b[0;32melse\u001b[0m\u001b[0;34m:\u001b[0m\u001b[0;34m\u001b[0m\u001b[0;34m\u001b[0m\u001b[0m\n\u001b[0;32m--> 580\u001b[0;31m       \u001b[0mresult\u001b[0m \u001b[0;34m=\u001b[0m \u001b[0mself\u001b[0m\u001b[0;34m.\u001b[0m\u001b[0m_call\u001b[0m\u001b[0;34m(\u001b[0m\u001b[0;34m*\u001b[0m\u001b[0margs\u001b[0m\u001b[0;34m,\u001b[0m \u001b[0;34m**\u001b[0m\u001b[0mkwds\u001b[0m\u001b[0;34m)\u001b[0m\u001b[0;34m\u001b[0m\u001b[0;34m\u001b[0m\u001b[0m\n\u001b[0m\u001b[1;32m    581\u001b[0m \u001b[0;34m\u001b[0m\u001b[0m\n\u001b[1;32m    582\u001b[0m     \u001b[0;32mif\u001b[0m \u001b[0mtracing_count\u001b[0m \u001b[0;34m==\u001b[0m \u001b[0mself\u001b[0m\u001b[0;34m.\u001b[0m\u001b[0m_get_tracing_count\u001b[0m\u001b[0;34m(\u001b[0m\u001b[0;34m)\u001b[0m\u001b[0;34m:\u001b[0m\u001b[0;34m\u001b[0m\u001b[0;34m\u001b[0m\u001b[0m\n",
      "\u001b[0;32m/opt/conda/envs/intro_nn/lib/python3.7/site-packages/tensorflow/python/eager/def_function.py\u001b[0m in \u001b[0;36m_call\u001b[0;34m(self, *args, **kwds)\u001b[0m\n\u001b[1;32m    642\u001b[0m         \u001b[0;31m# Lifting succeeded, so variables are initialized and we can run the\u001b[0m\u001b[0;34m\u001b[0m\u001b[0;34m\u001b[0m\u001b[0;34m\u001b[0m\u001b[0m\n\u001b[1;32m    643\u001b[0m         \u001b[0;31m# stateless function.\u001b[0m\u001b[0;34m\u001b[0m\u001b[0;34m\u001b[0m\u001b[0;34m\u001b[0m\u001b[0m\n\u001b[0;32m--> 644\u001b[0;31m         \u001b[0;32mreturn\u001b[0m \u001b[0mself\u001b[0m\u001b[0;34m.\u001b[0m\u001b[0m_stateless_fn\u001b[0m\u001b[0;34m(\u001b[0m\u001b[0;34m*\u001b[0m\u001b[0margs\u001b[0m\u001b[0;34m,\u001b[0m \u001b[0;34m**\u001b[0m\u001b[0mkwds\u001b[0m\u001b[0;34m)\u001b[0m\u001b[0;34m\u001b[0m\u001b[0;34m\u001b[0m\u001b[0m\n\u001b[0m\u001b[1;32m    645\u001b[0m     \u001b[0;32melse\u001b[0m\u001b[0;34m:\u001b[0m\u001b[0;34m\u001b[0m\u001b[0;34m\u001b[0m\u001b[0m\n\u001b[1;32m    646\u001b[0m       \u001b[0mcanon_args\u001b[0m\u001b[0;34m,\u001b[0m \u001b[0mcanon_kwds\u001b[0m \u001b[0;34m=\u001b[0m\u001b[0;31m \u001b[0m\u001b[0;31m\\\u001b[0m\u001b[0;34m\u001b[0m\u001b[0;34m\u001b[0m\u001b[0m\n",
      "\u001b[0;32m/opt/conda/envs/intro_nn/lib/python3.7/site-packages/tensorflow/python/eager/function.py\u001b[0m in \u001b[0;36m__call__\u001b[0;34m(self, *args, **kwargs)\u001b[0m\n\u001b[1;32m   2418\u001b[0m     \u001b[0;32mwith\u001b[0m \u001b[0mself\u001b[0m\u001b[0;34m.\u001b[0m\u001b[0m_lock\u001b[0m\u001b[0;34m:\u001b[0m\u001b[0;34m\u001b[0m\u001b[0;34m\u001b[0m\u001b[0m\n\u001b[1;32m   2419\u001b[0m       \u001b[0mgraph_function\u001b[0m\u001b[0;34m,\u001b[0m \u001b[0margs\u001b[0m\u001b[0;34m,\u001b[0m \u001b[0mkwargs\u001b[0m \u001b[0;34m=\u001b[0m \u001b[0mself\u001b[0m\u001b[0;34m.\u001b[0m\u001b[0m_maybe_define_function\u001b[0m\u001b[0;34m(\u001b[0m\u001b[0margs\u001b[0m\u001b[0;34m,\u001b[0m \u001b[0mkwargs\u001b[0m\u001b[0;34m)\u001b[0m\u001b[0;34m\u001b[0m\u001b[0;34m\u001b[0m\u001b[0m\n\u001b[0;32m-> 2420\u001b[0;31m     \u001b[0;32mreturn\u001b[0m \u001b[0mgraph_function\u001b[0m\u001b[0;34m.\u001b[0m\u001b[0m_filtered_call\u001b[0m\u001b[0;34m(\u001b[0m\u001b[0margs\u001b[0m\u001b[0;34m,\u001b[0m \u001b[0mkwargs\u001b[0m\u001b[0;34m)\u001b[0m  \u001b[0;31m# pylint: disable=protected-access\u001b[0m\u001b[0;34m\u001b[0m\u001b[0;34m\u001b[0m\u001b[0m\n\u001b[0m\u001b[1;32m   2421\u001b[0m \u001b[0;34m\u001b[0m\u001b[0m\n\u001b[1;32m   2422\u001b[0m   \u001b[0;34m@\u001b[0m\u001b[0mproperty\u001b[0m\u001b[0;34m\u001b[0m\u001b[0;34m\u001b[0m\u001b[0m\n",
      "\u001b[0;32m/opt/conda/envs/intro_nn/lib/python3.7/site-packages/tensorflow/python/eager/function.py\u001b[0m in \u001b[0;36m_filtered_call\u001b[0;34m(self, args, kwargs)\u001b[0m\n\u001b[1;32m   1663\u001b[0m          if isinstance(t, (ops.Tensor,\n\u001b[1;32m   1664\u001b[0m                            resource_variable_ops.BaseResourceVariable))),\n\u001b[0;32m-> 1665\u001b[0;31m         self.captured_inputs)\n\u001b[0m\u001b[1;32m   1666\u001b[0m \u001b[0;34m\u001b[0m\u001b[0m\n\u001b[1;32m   1667\u001b[0m   \u001b[0;32mdef\u001b[0m \u001b[0m_call_flat\u001b[0m\u001b[0;34m(\u001b[0m\u001b[0mself\u001b[0m\u001b[0;34m,\u001b[0m \u001b[0margs\u001b[0m\u001b[0;34m,\u001b[0m \u001b[0mcaptured_inputs\u001b[0m\u001b[0;34m,\u001b[0m \u001b[0mcancellation_manager\u001b[0m\u001b[0;34m=\u001b[0m\u001b[0;32mNone\u001b[0m\u001b[0;34m)\u001b[0m\u001b[0;34m:\u001b[0m\u001b[0;34m\u001b[0m\u001b[0;34m\u001b[0m\u001b[0m\n",
      "\u001b[0;32m/opt/conda/envs/intro_nn/lib/python3.7/site-packages/tensorflow/python/eager/function.py\u001b[0m in \u001b[0;36m_call_flat\u001b[0;34m(self, args, captured_inputs, cancellation_manager)\u001b[0m\n\u001b[1;32m   1744\u001b[0m       \u001b[0;31m# No tape is watching; skip to running the function.\u001b[0m\u001b[0;34m\u001b[0m\u001b[0;34m\u001b[0m\u001b[0;34m\u001b[0m\u001b[0m\n\u001b[1;32m   1745\u001b[0m       return self._build_call_outputs(self._inference_function.call(\n\u001b[0;32m-> 1746\u001b[0;31m           ctx, args, cancellation_manager=cancellation_manager))\n\u001b[0m\u001b[1;32m   1747\u001b[0m     forward_backward = self._select_forward_and_backward_functions(\n\u001b[1;32m   1748\u001b[0m         \u001b[0margs\u001b[0m\u001b[0;34m,\u001b[0m\u001b[0;34m\u001b[0m\u001b[0;34m\u001b[0m\u001b[0m\n",
      "\u001b[0;32m/opt/conda/envs/intro_nn/lib/python3.7/site-packages/tensorflow/python/eager/function.py\u001b[0m in \u001b[0;36mcall\u001b[0;34m(self, ctx, args, cancellation_manager)\u001b[0m\n\u001b[1;32m    596\u001b[0m               \u001b[0minputs\u001b[0m\u001b[0;34m=\u001b[0m\u001b[0margs\u001b[0m\u001b[0;34m,\u001b[0m\u001b[0;34m\u001b[0m\u001b[0;34m\u001b[0m\u001b[0m\n\u001b[1;32m    597\u001b[0m               \u001b[0mattrs\u001b[0m\u001b[0;34m=\u001b[0m\u001b[0mattrs\u001b[0m\u001b[0;34m,\u001b[0m\u001b[0;34m\u001b[0m\u001b[0;34m\u001b[0m\u001b[0m\n\u001b[0;32m--> 598\u001b[0;31m               ctx=ctx)\n\u001b[0m\u001b[1;32m    599\u001b[0m         \u001b[0;32melse\u001b[0m\u001b[0;34m:\u001b[0m\u001b[0;34m\u001b[0m\u001b[0;34m\u001b[0m\u001b[0m\n\u001b[1;32m    600\u001b[0m           outputs = execute.execute_with_cancellation(\n",
      "\u001b[0;32m/opt/conda/envs/intro_nn/lib/python3.7/site-packages/tensorflow/python/eager/execute.py\u001b[0m in \u001b[0;36mquick_execute\u001b[0;34m(op_name, num_outputs, inputs, attrs, ctx, name)\u001b[0m\n\u001b[1;32m     58\u001b[0m     \u001b[0mctx\u001b[0m\u001b[0;34m.\u001b[0m\u001b[0mensure_initialized\u001b[0m\u001b[0;34m(\u001b[0m\u001b[0;34m)\u001b[0m\u001b[0;34m\u001b[0m\u001b[0;34m\u001b[0m\u001b[0m\n\u001b[1;32m     59\u001b[0m     tensors = pywrap_tfe.TFE_Py_Execute(ctx._handle, device_name, op_name,\n\u001b[0;32m---> 60\u001b[0;31m                                         inputs, attrs, num_outputs)\n\u001b[0m\u001b[1;32m     61\u001b[0m   \u001b[0;32mexcept\u001b[0m \u001b[0mcore\u001b[0m\u001b[0;34m.\u001b[0m\u001b[0m_NotOkStatusException\u001b[0m \u001b[0;32mas\u001b[0m \u001b[0me\u001b[0m\u001b[0;34m:\u001b[0m\u001b[0;34m\u001b[0m\u001b[0;34m\u001b[0m\u001b[0m\n\u001b[1;32m     62\u001b[0m     \u001b[0;32mif\u001b[0m \u001b[0mname\u001b[0m \u001b[0;32mis\u001b[0m \u001b[0;32mnot\u001b[0m \u001b[0;32mNone\u001b[0m\u001b[0;34m:\u001b[0m\u001b[0;34m\u001b[0m\u001b[0;34m\u001b[0m\u001b[0m\n",
      "\u001b[0;31mInvalidArgumentError\u001b[0m:  Received a label value of 38 which is outside the valid range of [0, 10).  Label values: 36 10 10 22 10 13 11 8 26 20 15 20 33 19 17 19 38 16 14 26 11 23 13 12 22 22 25 19 20 20 14 21\n\t [[node sparse_categorical_crossentropy/SparseSoftmaxCrossEntropyWithLogits/SparseSoftmaxCrossEntropyWithLogits (defined at /opt/conda/envs/intro_nn/lib/python3.7/site-packages/kerastuner/engine/multi_execution_tuner.py:96) ]] [Op:__inference_train_function_91382]\n\nFunction call stack:\ntrain_function\n"
     ]
    }
   ],
   "source": [
    "tuner.search(X, y,\n",
    "             epochs=5,\n",
    "             validation_split=0.15)"
   ]
  },
  {
   "cell_type": "code",
   "execution_count": 32,
   "metadata": {},
   "outputs": [
    {
     "output_type": "display_data",
     "data": {
      "text/plain": "<IPython.core.display.HTML object>",
      "text/html": "<span style=\"color:#4527A0\"><h1 style=\"font-size:18px\">Results summary</h1></span>"
     },
     "metadata": {}
    },
    {
     "output_type": "display_data",
     "data": {
      "text/plain": "<IPython.core.display.HTML object>",
      "text/html": "<span style=\"color:cyan\"> |-Results in ./keras-tuner-trial/helloworld</span>"
     },
     "metadata": {}
    },
    {
     "output_type": "display_data",
     "data": {
      "text/plain": "<IPython.core.display.HTML object>",
      "text/html": "<span style=\"color:cyan\"> |-Showing 10 best trials</span>"
     },
     "metadata": {}
    },
    {
     "output_type": "display_data",
     "data": {
      "text/plain": "<IPython.core.display.HTML object>",
      "text/html": "<span style=\"color:cyan\"> |-Objective(name='val_loss', direction='min')</span>"
     },
     "metadata": {}
    }
   ],
   "source": [
    "tuner.results_summary()"
   ]
  },
  {
   "cell_type": "markdown",
   "metadata": {},
   "source": [
    "## Challenge\n",
    "\n",
    "Try to apply RandomSearchCV to your module project today. "
   ]
  },
  {
   "cell_type": "markdown",
   "metadata": {},
   "source": [
    "# Review\n",
    "* <a href=\"#p1\">Part 1</a>: Describe the major hyperparemeters to tune\n",
    "    - Activation Functions\n",
    "    - Optimizer\n",
    "    - Number of Layers\n",
    "    - Number of Neurons\n",
    "    - Batch Size\n",
    "    - Dropout Regulaization\n",
    "    - Learning Rate\n",
    "    - Number of Epochs\n",
    "    - and many more\n",
    "* <a href=\"#p2\">Part 2</a>: Implement an experiment tracking framework\n",
    "    - Weights & Biases\n",
    "    - Comet.ml\n",
    "    - By Hand / GridSearch\n",
    "* <a href=\"#p3\">Part 3</a>: Search the hyperparameter space using RandomSearch\n",
    "    - Sklearn still useful (haha)\n",
    "    - Integration with Wieghts & Biases\n",
    "* <a href=\"#p4\">Part 4</a>: Discuss emerging hyperparameter tuning strategies\n",
    "    - Bayesian Optimization\n",
    "    - Hyperopt\n",
    "    - Genetic Evolution"
   ]
  },
  {
   "cell_type": "markdown",
   "metadata": {},
   "source": [
    "# Sources"
   ]
  },
  {
   "cell_type": "markdown",
   "metadata": {},
   "source": [
    "## Additional Reading\n",
    "- https://machinelearningmastery.com/grid-search-hyperparameters-deep-learning-models-python-keras/\n",
    "- https://blog.floydhub.com/guide-to-hyperparameters-search-for-deep-learning-models/\n",
    "- https://machinelearningmastery.com/dropout-regularization-deep-learning-models-keras/\n",
    "- https://machinelearningmastery.com/introduction-to-weight-constraints-to-reduce-generalization-error-in-deep-learning/\n",
    "- https://machinelearningmastery.com/how-to-configure-the-number-of-layers-and-nodes-in-a-neural-network/"
   ]
  }
 ],
 "metadata": {
  "kernelspec": {
   "display_name": "Python 3.7.6 64-bit ('intro_nn': conda)",
   "language": "python",
   "name": "python37664bitintronncondabe27099557db4cd1a4d5547b016f4f28"
  },
  "language_info": {
   "codemirror_mode": {
    "name": "ipython",
    "version": 3
   },
   "file_extension": ".py",
   "mimetype": "text/x-python",
   "name": "python",
   "nbconvert_exporter": "python",
   "pygments_lexer": "ipython3",
   "version": "3.7.6-final"
  }
 },
 "nbformat": 4,
 "nbformat_minor": 4
}