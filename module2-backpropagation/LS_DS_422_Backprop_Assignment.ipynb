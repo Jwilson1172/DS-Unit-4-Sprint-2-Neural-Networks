{
  "cells": [
    {
      "cell_type": "markdown",
      "source": [
        "<img align=\"left\" src=\"https://lever-client-logos.s3.amazonaws.com/864372b1-534c-480e-acd5-9711f850815c-1524247202159.png\" width=200>\n",
        "<br></br>\n",
        "\n",
        "# Backpropagation Practice\n",
        "\n",
        "## *Data Science Unit 4 Sprint 2 Assignment 2*\n",
        "\n",
        "Using TensorFlow Keras, Implement a 3 input, 4 node hidden-layer, 1 output node Multilayer Perceptron on the following dataset:\n",
        "\n",
        "| x1 | x2 | x3 | y |\n",
        "|----|----|----|---|\n",
        "| 0  | 0  | 1  | 0 |\n",
        "| 0  | 1  | 1  | 1 |\n",
        "| 1  | 0  | 1  | 1 |\n",
        "| 0  | 1  | 0  | 1 |\n",
        "| 1  | 0  | 0  | 1 |\n",
        "| 1  | 1  | 1  | 0 |\n",
        "| 0  | 0  | 0  | 0 |\n",
        "\n",
        "If you look at the data you'll notice that the first two columns behave like an XOR gate while the last column is mostly just noise. Remember that creating an XOR gate was what the perceptron was criticized for not being able to learn.\n",
        "\n",
        "This is your \"Hello World!\" of TensorFlow.\n",
        "\n",
        "### Example TensorFlow Starter Code\n",
        "\n",
        "```python \n",
        "from tensorflow.keras.models import Sequential\n",
        "from tensorflow.keras.layers import Dense\n",
        "\n",
        "model = Sequential([\n",
        "    Dense(3, activation='sigmoid', input_dim=2),\n",
        "    Dense(1, activation='sigmoid')\n",
        "])\n",
        "\n",
        "model.compile(optimizer='sgd', loss='binary_crossentropy', metrics=['acc'])\n",
        "\n",
        "results = model.fit(X,y, epochs=100)\n",
        "\n",
        "```\n",
        "\n",
        "### Additional Written Tasks:\n",
        "1. Investigate the various [loss functions](https://www.tensorflow.org/api_docs/python/tf/keras/losses). Which is best suited for the task at hand (predicting 1 / 0) and why? \n",
        "2. What is the difference between a loss function and a metric? Why might we need both in Keras? \n",
        "3. Investigate the various [optimizers](https://www.tensorflow.org/api_docs/python/tf/keras/optimizers). Stochastic Gradient Descent (`sgd`) is not the learning algorithm dejour anyone. Why is that? What do newer optimizers such as `adam` have to offer? "
      ],
      "metadata": {
        "colab_type": "text",
        "id": "NGGrt9EYlCqY"
      }
    },
    {
      "cell_type": "code",
      "source": [
        "from tensorflow.keras.models import Sequential\n",
        "from tensorflow.keras.layers import Dense\n",
        "import pandas as pd\n",
        "data = {\n",
        "'x1':[0, 0, 1, 0, 1, 1, 0],\n",
        "'x2':[0, 1, 0, 1, 0, 1, 0],\n",
        "'x3':[1, 1, 1, 0, 0, 1, 0],\n",
        "'y':[0, 1, 1, 1, 1, 0, 0]\n",
        "}\n",
        "df = pd.DataFrame.from_dict(data).astype('int')\n",
        "X = df[['x1', 'x2', 'x3']].values\n",
        "y = df['y'].values\n",
        "\n",
        "model = Sequential([\n",
        "    Dense(3, activation='sigmoid', input_dim=3),\n",
        "    Dense(9,activation='softmax'),\n",
        "    Dense(1, activation='softmax')\n",
        "])\n",
        "model.summary()\n"
      ],
      "outputs": [
        {
          "output_type": "stream",
          "name": "stdout",
          "text": "Model: \"sequential_4\"\n_________________________________________________________________\nLayer (type)                 Output Shape              Param #   \n=================================================================\ndense_13 (Dense)             (None, 3)                 12        \n_________________________________________________________________\ndense_14 (Dense)             (None, 9)                 36        \n_________________________________________________________________\ndense_15 (Dense)             (None, 1)                 10        \n=================================================================\nTotal params: 58\nTrainable params: 58\nNon-trainable params: 0\n_________________________________________________________________\n"
        }
      ],
      "execution_count": 9,
      "metadata": {
        "colab": {},
        "colab_type": "code",
        "id": "nEREYT-3wI1f"
      }
    },
    {
      "cell_type": "code",
      "execution_count": 10,
      "metadata": {},
      "outputs": [
        {
          "output_type": "stream",
          "name": "stdout",
          "text": "Epoch 1/100\n1/1 [==============================] - 0s 1ms/step - loss: 6.5354 - acc: 0.5714\nEpoch 2/100\n1/1 [==============================] - 0s 2ms/step - loss: 6.5354 - acc: 0.5714\nEpoch 3/100\n1/1 [==============================] - 0s 1ms/step - loss: 6.5354 - acc: 0.5714\nEpoch 4/100\n1/1 [==============================] - 0s 1ms/step - loss: 6.5354 - acc: 0.5714\nEpoch 5/100\n1/1 [==============================] - 0s 1ms/step - loss: 6.5354 - acc: 0.5714\nEpoch 6/100\n1/1 [==============================] - 0s 963us/step - loss: 6.5354 - acc: 0.5714\nEpoch 7/100\n1/1 [==============================] - 0s 1ms/step - loss: 6.5354 - acc: 0.5714\nEpoch 8/100\n1/1 [==============================] - 0s 1ms/step - loss: 6.5354 - acc: 0.5714\nEpoch 9/100\n1/1 [==============================] - 0s 1ms/step - loss: 6.5354 - acc: 0.5714\nEpoch 10/100\n1/1 [==============================] - 0s 1ms/step - loss: 6.5354 - acc: 0.5714\nEpoch 11/100\n1/1 [==============================] - 0s 931us/step - loss: 6.5354 - acc: 0.5714\nEpoch 12/100\n1/1 [==============================] - 0s 2ms/step - loss: 6.5354 - acc: 0.5714\nEpoch 13/100\n1/1 [==============================] - 0s 2ms/step - loss: 6.5354 - acc: 0.5714\nEpoch 14/100\n1/1 [==============================] - 0s 982us/step - loss: 6.5354 - acc: 0.5714\nEpoch 15/100\n1/1 [==============================] - 0s 1ms/step - loss: 6.5354 - acc: 0.5714\nEpoch 16/100\n1/1 [==============================] - 0s 2ms/step - loss: 6.5354 - acc: 0.5714\nEpoch 17/100\n1/1 [==============================] - 0s 2ms/step - loss: 6.5354 - acc: 0.5714\nEpoch 18/100\n1/1 [==============================] - 0s 955us/step - loss: 6.5354 - acc: 0.5714\nEpoch 19/100\n1/1 [==============================] - 0s 1ms/step - loss: 6.5354 - acc: 0.5714\nEpoch 20/100\n1/1 [==============================] - 0s 957us/step - loss: 6.5354 - acc: 0.5714\nEpoch 21/100\n1/1 [==============================] - 0s 1ms/step - loss: 6.5354 - acc: 0.5714\nEpoch 22/100\n1/1 [==============================] - 0s 1ms/step - loss: 6.5354 - acc: 0.5714\nEpoch 23/100\n1/1 [==============================] - 0s 1ms/step - loss: 6.5354 - acc: 0.5714\nEpoch 24/100\n1/1 [==============================] - 0s 968us/step - loss: 6.5354 - acc: 0.5714\nEpoch 25/100\n1/1 [==============================] - 0s 1ms/step - loss: 6.5354 - acc: 0.5714\nEpoch 26/100\n1/1 [==============================] - 0s 1ms/step - loss: 6.5354 - acc: 0.5714\nEpoch 27/100\n1/1 [==============================] - 0s 1ms/step - loss: 6.5354 - acc: 0.5714\nEpoch 28/100\n1/1 [==============================] - 0s 2ms/step - loss: 6.5354 - acc: 0.5714\nEpoch 29/100\n1/1 [==============================] - 0s 979us/step - loss: 6.5354 - acc: 0.5714\nEpoch 30/100\n1/1 [==============================] - 0s 2ms/step - loss: 6.5354 - acc: 0.5714\nEpoch 31/100\n1/1 [==============================] - 0s 944us/step - loss: 6.5354 - acc: 0.5714\nEpoch 32/100\n1/1 [==============================] - 0s 1ms/step - loss: 6.5354 - acc: 0.5714\nEpoch 33/100\n1/1 [==============================] - 0s 2ms/step - loss: 6.5354 - acc: 0.5714\nEpoch 34/100\n1/1 [==============================] - 0s 1ms/step - loss: 6.5354 - acc: 0.5714\nEpoch 35/100\n1/1 [==============================] - 0s 1ms/step - loss: 6.5354 - acc: 0.5714\nEpoch 36/100\n1/1 [==============================] - 0s 1ms/step - loss: 6.5354 - acc: 0.5714\nEpoch 37/100\n1/1 [==============================] - 0s 940us/step - loss: 6.5354 - acc: 0.5714\nEpoch 38/100\n1/1 [==============================] - 0s 2ms/step - loss: 6.5354 - acc: 0.5714\nEpoch 39/100\n1/1 [==============================] - 0s 2ms/step - loss: 6.5354 - acc: 0.5714\nEpoch 40/100\n1/1 [==============================] - 0s 2ms/step - loss: 6.5354 - acc: 0.5714\nEpoch 41/100\n1/1 [==============================] - 0s 978us/step - loss: 6.5354 - acc: 0.5714\nEpoch 42/100\n1/1 [==============================] - 0s 880us/step - loss: 6.5354 - acc: 0.5714\nEpoch 43/100\n1/1 [==============================] - 0s 2ms/step - loss: 6.5354 - acc: 0.5714\nEpoch 44/100\n1/1 [==============================] - 0s 1ms/step - loss: 6.5354 - acc: 0.5714\nEpoch 45/100\n1/1 [==============================] - 0s 2ms/step - loss: 6.5354 - acc: 0.5714\nEpoch 46/100\n1/1 [==============================] - 0s 1ms/step - loss: 6.5354 - acc: 0.5714\nEpoch 47/100\n1/1 [==============================] - 0s 2ms/step - loss: 6.5354 - acc: 0.5714\nEpoch 48/100\n1/1 [==============================] - 0s 903us/step - loss: 6.5354 - acc: 0.5714\nEpoch 49/100\n1/1 [==============================] - 0s 881us/step - loss: 6.5354 - acc: 0.5714\nEpoch 50/100\n1/1 [==============================] - 0s 2ms/step - loss: 6.5354 - acc: 0.5714\nEpoch 51/100\n1/1 [==============================] - 0s 1ms/step - loss: 6.5354 - acc: 0.5714\nEpoch 52/100\n1/1 [==============================] - 0s 1ms/step - loss: 6.5354 - acc: 0.5714\nEpoch 53/100\n1/1 [==============================] - 0s 1ms/step - loss: 6.5354 - acc: 0.5714\nEpoch 54/100\n1/1 [==============================] - 0s 1ms/step - loss: 6.5354 - acc: 0.5714\nEpoch 55/100\n1/1 [==============================] - 0s 2ms/step - loss: 6.5354 - acc: 0.5714\nEpoch 56/100\n1/1 [==============================] - 0s 1ms/step - loss: 6.5354 - acc: 0.5714\nEpoch 57/100\n1/1 [==============================] - 0s 1ms/step - loss: 6.5354 - acc: 0.5714\nEpoch 58/100\n1/1 [==============================] - 0s 1ms/step - loss: 6.5354 - acc: 0.5714\nEpoch 59/100\n1/1 [==============================] - 0s 2ms/step - loss: 6.5354 - acc: 0.5714\nEpoch 60/100\n1/1 [==============================] - 0s 1ms/step - loss: 6.5354 - acc: 0.5714\nEpoch 61/100\n1/1 [==============================] - 0s 2ms/step - loss: 6.5354 - acc: 0.5714\nEpoch 62/100\n1/1 [==============================] - 0s 3ms/step - loss: 6.5354 - acc: 0.5714\nEpoch 63/100\n1/1 [==============================] - 0s 3ms/step - loss: 6.5354 - acc: 0.5714\nEpoch 64/100\n1/1 [==============================] - 0s 1ms/step - loss: 6.5354 - acc: 0.5714\nEpoch 65/100\n1/1 [==============================] - 0s 2ms/step - loss: 6.5354 - acc: 0.5714\nEpoch 66/100\n1/1 [==============================] - 0s 2ms/step - loss: 6.5354 - acc: 0.5714\nEpoch 67/100\n1/1 [==============================] - 0s 2ms/step - loss: 6.5354 - acc: 0.5714\nEpoch 68/100\n1/1 [==============================] - 0s 2ms/step - loss: 6.5354 - acc: 0.5714\nEpoch 69/100\n1/1 [==============================] - 0s 2ms/step - loss: 6.5354 - acc: 0.5714\nEpoch 70/100\n1/1 [==============================] - 0s 957us/step - loss: 6.5354 - acc: 0.5714\nEpoch 71/100\n1/1 [==============================] - 0s 1ms/step - loss: 6.5354 - acc: 0.5714\nEpoch 72/100\n1/1 [==============================] - 0s 2ms/step - loss: 6.5354 - acc: 0.5714\nEpoch 73/100\n1/1 [==============================] - 0s 1ms/step - loss: 6.5354 - acc: 0.5714\nEpoch 74/100\n1/1 [==============================] - 0s 2ms/step - loss: 6.5354 - acc: 0.5714\nEpoch 75/100\n1/1 [==============================] - 0s 1ms/step - loss: 6.5354 - acc: 0.5714\nEpoch 76/100\n1/1 [==============================] - 0s 1ms/step - loss: 6.5354 - acc: 0.5714\nEpoch 77/100\n1/1 [==============================] - 0s 1ms/step - loss: 6.5354 - acc: 0.5714\nEpoch 78/100\n1/1 [==============================] - 0s 1ms/step - loss: 6.5354 - acc: 0.5714\nEpoch 79/100\n1/1 [==============================] - 0s 1ms/step - loss: 6.5354 - acc: 0.5714\nEpoch 80/100\n1/1 [==============================] - 0s 2ms/step - loss: 6.5354 - acc: 0.5714\nEpoch 81/100\n1/1 [==============================] - 0s 2ms/step - loss: 6.5354 - acc: 0.5714\nEpoch 82/100\n1/1 [==============================] - 0s 2ms/step - loss: 6.5354 - acc: 0.5714\nEpoch 83/100\n1/1 [==============================] - 0s 1ms/step - loss: 6.5354 - acc: 0.5714\nEpoch 84/100\n1/1 [==============================] - 0s 2ms/step - loss: 6.5354 - acc: 0.5714\nEpoch 85/100\n1/1 [==============================] - 0s 1ms/step - loss: 6.5354 - acc: 0.5714\nEpoch 86/100\n1/1 [==============================] - 0s 1ms/step - loss: 6.5354 - acc: 0.5714\nEpoch 87/100\n1/1 [==============================] - 0s 1ms/step - loss: 6.5354 - acc: 0.5714\nEpoch 88/100\n1/1 [==============================] - 0s 2ms/step - loss: 6.5354 - acc: 0.5714\nEpoch 89/100\n1/1 [==============================] - 0s 1ms/step - loss: 6.5354 - acc: 0.5714\nEpoch 90/100\n1/1 [==============================] - 0s 2ms/step - loss: 6.5354 - acc: 0.5714\nEpoch 91/100\n1/1 [==============================] - 0s 1ms/step - loss: 6.5354 - acc: 0.5714\nEpoch 92/100\n1/1 [==============================] - 0s 2ms/step - loss: 6.5354 - acc: 0.5714\nEpoch 93/100\n1/1 [==============================] - 0s 1ms/step - loss: 6.5354 - acc: 0.5714\nEpoch 94/100\n1/1 [==============================] - 0s 1ms/step - loss: 6.5354 - acc: 0.5714\nEpoch 95/100\n1/1 [==============================] - 0s 1ms/step - loss: 6.5354 - acc: 0.5714\nEpoch 96/100\n1/1 [==============================] - 0s 1ms/step - loss: 6.5354 - acc: 0.5714\nEpoch 97/100\n1/1 [==============================] - 0s 1ms/step - loss: 6.5354 - acc: 0.5714\nEpoch 98/100\n1/1 [==============================] - 0s 1ms/step - loss: 6.5354 - acc: 0.5714\nEpoch 99/100\n1/1 [==============================] - 0s 1ms/step - loss: 6.5354 - acc: 0.5714\nEpoch 100/100\n1/1 [==============================] - 0s 2ms/step - loss: 6.5354 - acc: 0.5714\n"
        }
      ],
      "source": [
        "model.compile(optimizer='sgd', loss='binary_crossentropy', metrics=['acc'])\n",
        "\n",
        "results = model.fit(X,y, epochs=100)"
      ]
    },
    {
      "cell_type": "markdown",
      "source": [
        "### Build a Tensor Keras Perceptron\n",
        "\n",
        "Try to match the architecture we used on Monday - inputs nodes and one output node. Apply this architecture to the XOR-ish dataset above. \n",
        "\n",
        "After fitting your model answer these questions: \n",
        "\n",
        "Are you able to achieve the same results as a bigger architecture from the first part of the assignment? Why is this disparity the case? What properties of the XOR dataset would cause this disparity? \n",
        "\n",
        "Now extrapolate this behavior on a much larger dataset in terms of features. What kind of architecture decisions could we make to avoid the problems the XOR dataset presents at scale? \n",
        "\n",
        "*Note:* The bias term is baked in by default in the Dense layer."
      ],
      "metadata": {}
    },
    {
      "cell_type": "code",
      "source": [
        "### Compare "
      ],
      "outputs": [],
      "execution_count": null,
      "metadata": {}
    },
    {
      "cell_type": "markdown",
      "source": [
        "## Try building/training a more complex MLP on a bigger dataset.\n",
        "\n",
        "Use TensorFlow Keras & the [MNIST dataset](http://yann.lecun.com/exdb/mnist/) to build the canonical handwriting digit recognizer and see what kind of accuracy you can achieve. \n",
        "\n",
        "If you need inspiration, the Internet is chalk-full of tutorials, but I want you to see how far you can get on your own first. I've linked to the original MNIST dataset above but it will probably be easier to download data through a neural network library. If you reference outside resources make sure you understand every line of code that you're using from other sources, and share with your fellow students helpful resources that you find.\n",
        "\n",
        "\n",
        "### Parts\n",
        "1. Gathering & Transforming the Data\n",
        "2. Making MNIST a Binary Problem\n",
        "3. Estimating your Neural Network (the part you focus on)"
      ],
      "metadata": {
        "colab_type": "text",
        "id": "8b-r70o8p2Dm"
      }
    },
    {
      "cell_type": "markdown",
      "source": [
        "### Gathering the Data \n",
        "\n",
        "`keras` has a handy method to pull the mnist dataset for you. You'll notice that each observation is a 28x28 arrary which represents an image. Although most Neural Network frameworks can handle higher dimensional data, that is more overhead than necessary for us. We need to flatten the image to one long row which will be 784 values (28X28). Basically, you will be appending each row to one another to make on really long row. "
      ],
      "metadata": {}
    },
    {
      "cell_type": "code",
      "source": [
        "import numpy as np\n",
        "from tensorflow.keras.datasets import mnist\n",
        "from tensorflow.keras.utils import to_categorical"
      ],
      "outputs": [],
      "execution_count": 2,
      "metadata": {}
    },
    {
      "cell_type": "code",
      "source": [
        "# input image dimensions\n",
        "img_rows, img_cols = 28, 28"
      ],
      "outputs": [],
      "execution_count": 4,
      "metadata": {}
    },
    {
      "cell_type": "code",
      "source": [
        "# the data, split between train and test sets\n",
        "(x_train, y_train), (x_test, y_test) = mnist.load_data()"
      ],
      "outputs": [],
      "execution_count": 43,
      "metadata": {}
    },
    {
      "cell_type": "code",
      "source": [
        "#x_train = x_train.reshape(x_train.shape[0], img_rows * img_cols)\n",
        "#x_test = x_test.reshape(x_test.shape[0], img_rows * img_cols)\n",
        "\n",
        "# Normalize Our Data\n",
        "x_train = x_train / 255\n",
        "x_test = x_test / 255\n",
        "\n",
        "# encoding the y var to what softmax exspects\n",
        "num_classes = 10\n",
        "y_train = keras.utils.to_categorical(y_train, num_classes)\n",
        "y_test = keras.utils.to_categorical(y_test, num_classes)"
      ],
      "outputs": [],
      "execution_count": 44,
      "metadata": {}
    },
    {
      "cell_type": "code",
      "execution_count": 45,
      "metadata": {},
      "outputs": [
        {
          "output_type": "execute_result",
          "data": {
            "text/plain": "array([[0.        , 0.        , 0.        , 0.        , 0.        ,\n        0.        , 0.        , 0.        , 0.        , 0.        ,\n        0.        , 0.        , 0.        , 0.        , 0.        ,\n        0.        , 0.        , 0.        , 0.        , 0.        ,\n        0.        , 0.        , 0.        , 0.        , 0.        ,\n        0.        , 0.        , 0.        ],\n       [0.        , 0.        , 0.        , 0.        , 0.        ,\n        0.        , 0.        , 0.        , 0.        , 0.        ,\n        0.        , 0.        , 0.        , 0.        , 0.        ,\n        0.        , 0.        , 0.        , 0.        , 0.        ,\n        0.        , 0.        , 0.        , 0.        , 0.        ,\n        0.        , 0.        , 0.        ],\n       [0.        , 0.        , 0.        , 0.        , 0.        ,\n        0.        , 0.        , 0.        , 0.        , 0.        ,\n        0.        , 0.        , 0.        , 0.        , 0.        ,\n        0.        , 0.        , 0.        , 0.        , 0.        ,\n        0.        , 0.        , 0.        , 0.        , 0.        ,\n        0.        , 0.        , 0.        ],\n       [0.        , 0.        , 0.        , 0.        , 0.        ,\n        0.        , 0.        , 0.        , 0.        , 0.        ,\n        0.        , 0.        , 0.        , 0.        , 0.        ,\n        0.        , 0.        , 0.        , 0.        , 0.        ,\n        0.        , 0.        , 0.        , 0.        , 0.        ,\n        0.        , 0.        , 0.        ],\n       [0.        , 0.        , 0.        , 0.        , 0.        ,\n        0.        , 0.        , 0.        , 0.        , 0.        ,\n        0.        , 0.        , 0.        , 0.        , 0.        ,\n        0.        , 0.        , 0.        , 0.        , 0.        ,\n        0.        , 0.        , 0.        , 0.        , 0.        ,\n        0.        , 0.        , 0.        ],\n       [0.        , 0.        , 0.        , 0.        , 0.        ,\n        0.        , 0.        , 0.        , 0.        , 0.        ,\n        0.        , 0.        , 0.01176471, 0.07058824, 0.07058824,\n        0.07058824, 0.49411765, 0.53333333, 0.68627451, 0.10196078,\n        0.65098039, 1.        , 0.96862745, 0.49803922, 0.        ,\n        0.        , 0.        , 0.        ],\n       [0.        , 0.        , 0.        , 0.        , 0.        ,\n        0.        , 0.        , 0.        , 0.11764706, 0.14117647,\n        0.36862745, 0.60392157, 0.66666667, 0.99215686, 0.99215686,\n        0.99215686, 0.99215686, 0.99215686, 0.88235294, 0.6745098 ,\n        0.99215686, 0.94901961, 0.76470588, 0.25098039, 0.        ,\n        0.        , 0.        , 0.        ],\n       [0.        , 0.        , 0.        , 0.        , 0.        ,\n        0.        , 0.        , 0.19215686, 0.93333333, 0.99215686,\n        0.99215686, 0.99215686, 0.99215686, 0.99215686, 0.99215686,\n        0.99215686, 0.99215686, 0.98431373, 0.36470588, 0.32156863,\n        0.32156863, 0.21960784, 0.15294118, 0.        , 0.        ,\n        0.        , 0.        , 0.        ],\n       [0.        , 0.        , 0.        , 0.        , 0.        ,\n        0.        , 0.        , 0.07058824, 0.85882353, 0.99215686,\n        0.99215686, 0.99215686, 0.99215686, 0.99215686, 0.77647059,\n        0.71372549, 0.96862745, 0.94509804, 0.        , 0.        ,\n        0.        , 0.        , 0.        , 0.        , 0.        ,\n        0.        , 0.        , 0.        ],\n       [0.        , 0.        , 0.        , 0.        , 0.        ,\n        0.        , 0.        , 0.        , 0.31372549, 0.61176471,\n        0.41960784, 0.99215686, 0.99215686, 0.80392157, 0.04313725,\n        0.        , 0.16862745, 0.60392157, 0.        , 0.        ,\n        0.        , 0.        , 0.        , 0.        , 0.        ,\n        0.        , 0.        , 0.        ],\n       [0.        , 0.        , 0.        , 0.        , 0.        ,\n        0.        , 0.        , 0.        , 0.        , 0.05490196,\n        0.00392157, 0.60392157, 0.99215686, 0.35294118, 0.        ,\n        0.        , 0.        , 0.        , 0.        , 0.        ,\n        0.        , 0.        , 0.        , 0.        , 0.        ,\n        0.        , 0.        , 0.        ],\n       [0.        , 0.        , 0.        , 0.        , 0.        ,\n        0.        , 0.        , 0.        , 0.        , 0.        ,\n        0.        , 0.54509804, 0.99215686, 0.74509804, 0.00784314,\n        0.        , 0.        , 0.        , 0.        , 0.        ,\n        0.        , 0.        , 0.        , 0.        , 0.        ,\n        0.        , 0.        , 0.        ],\n       [0.        , 0.        , 0.        , 0.        , 0.        ,\n        0.        , 0.        , 0.        , 0.        , 0.        ,\n        0.        , 0.04313725, 0.74509804, 0.99215686, 0.2745098 ,\n        0.        , 0.        , 0.        , 0.        , 0.        ,\n        0.        , 0.        , 0.        , 0.        , 0.        ,\n        0.        , 0.        , 0.        ],\n       [0.        , 0.        , 0.        , 0.        , 0.        ,\n        0.        , 0.        , 0.        , 0.        , 0.        ,\n        0.        , 0.        , 0.1372549 , 0.94509804, 0.88235294,\n        0.62745098, 0.42352941, 0.00392157, 0.        , 0.        ,\n        0.        , 0.        , 0.        , 0.        , 0.        ,\n        0.        , 0.        , 0.        ],\n       [0.        , 0.        , 0.        , 0.        , 0.        ,\n        0.        , 0.        , 0.        , 0.        , 0.        ,\n        0.        , 0.        , 0.        , 0.31764706, 0.94117647,\n        0.99215686, 0.99215686, 0.46666667, 0.09803922, 0.        ,\n        0.        , 0.        , 0.        , 0.        , 0.        ,\n        0.        , 0.        , 0.        ],\n       [0.        , 0.        , 0.        , 0.        , 0.        ,\n        0.        , 0.        , 0.        , 0.        , 0.        ,\n        0.        , 0.        , 0.        , 0.        , 0.17647059,\n        0.72941176, 0.99215686, 0.99215686, 0.58823529, 0.10588235,\n        0.        , 0.        , 0.        , 0.        , 0.        ,\n        0.        , 0.        , 0.        ],\n       [0.        , 0.        , 0.        , 0.        , 0.        ,\n        0.        , 0.        , 0.        , 0.        , 0.        ,\n        0.        , 0.        , 0.        , 0.        , 0.        ,\n        0.0627451 , 0.36470588, 0.98823529, 0.99215686, 0.73333333,\n        0.        , 0.        , 0.        , 0.        , 0.        ,\n        0.        , 0.        , 0.        ],\n       [0.        , 0.        , 0.        , 0.        , 0.        ,\n        0.        , 0.        , 0.        , 0.        , 0.        ,\n        0.        , 0.        , 0.        , 0.        , 0.        ,\n        0.        , 0.        , 0.97647059, 0.99215686, 0.97647059,\n        0.25098039, 0.        , 0.        , 0.        , 0.        ,\n        0.        , 0.        , 0.        ],\n       [0.        , 0.        , 0.        , 0.        , 0.        ,\n        0.        , 0.        , 0.        , 0.        , 0.        ,\n        0.        , 0.        , 0.        , 0.        , 0.18039216,\n        0.50980392, 0.71764706, 0.99215686, 0.99215686, 0.81176471,\n        0.00784314, 0.        , 0.        , 0.        , 0.        ,\n        0.        , 0.        , 0.        ],\n       [0.        , 0.        , 0.        , 0.        , 0.        ,\n        0.        , 0.        , 0.        , 0.        , 0.        ,\n        0.        , 0.        , 0.15294118, 0.58039216, 0.89803922,\n        0.99215686, 0.99215686, 0.99215686, 0.98039216, 0.71372549,\n        0.        , 0.        , 0.        , 0.        , 0.        ,\n        0.        , 0.        , 0.        ],\n       [0.        , 0.        , 0.        , 0.        , 0.        ,\n        0.        , 0.        , 0.        , 0.        , 0.        ,\n        0.09411765, 0.44705882, 0.86666667, 0.99215686, 0.99215686,\n        0.99215686, 0.99215686, 0.78823529, 0.30588235, 0.        ,\n        0.        , 0.        , 0.        , 0.        , 0.        ,\n        0.        , 0.        , 0.        ],\n       [0.        , 0.        , 0.        , 0.        , 0.        ,\n        0.        , 0.        , 0.        , 0.09019608, 0.25882353,\n        0.83529412, 0.99215686, 0.99215686, 0.99215686, 0.99215686,\n        0.77647059, 0.31764706, 0.00784314, 0.        , 0.        ,\n        0.        , 0.        , 0.        , 0.        , 0.        ,\n        0.        , 0.        , 0.        ],\n       [0.        , 0.        , 0.        , 0.        , 0.        ,\n        0.        , 0.07058824, 0.67058824, 0.85882353, 0.99215686,\n        0.99215686, 0.99215686, 0.99215686, 0.76470588, 0.31372549,\n        0.03529412, 0.        , 0.        , 0.        , 0.        ,\n        0.        , 0.        , 0.        , 0.        , 0.        ,\n        0.        , 0.        , 0.        ],\n       [0.        , 0.        , 0.        , 0.        , 0.21568627,\n        0.6745098 , 0.88627451, 0.99215686, 0.99215686, 0.99215686,\n        0.99215686, 0.95686275, 0.52156863, 0.04313725, 0.        ,\n        0.        , 0.        , 0.        , 0.        , 0.        ,\n        0.        , 0.        , 0.        , 0.        , 0.        ,\n        0.        , 0.        , 0.        ],\n       [0.        , 0.        , 0.        , 0.        , 0.53333333,\n        0.99215686, 0.99215686, 0.99215686, 0.83137255, 0.52941176,\n        0.51764706, 0.0627451 , 0.        , 0.        , 0.        ,\n        0.        , 0.        , 0.        , 0.        , 0.        ,\n        0.        , 0.        , 0.        , 0.        , 0.        ,\n        0.        , 0.        , 0.        ],\n       [0.        , 0.        , 0.        , 0.        , 0.        ,\n        0.        , 0.        , 0.        , 0.        , 0.        ,\n        0.        , 0.        , 0.        , 0.        , 0.        ,\n        0.        , 0.        , 0.        , 0.        , 0.        ,\n        0.        , 0.        , 0.        , 0.        , 0.        ,\n        0.        , 0.        , 0.        ],\n       [0.        , 0.        , 0.        , 0.        , 0.        ,\n        0.        , 0.        , 0.        , 0.        , 0.        ,\n        0.        , 0.        , 0.        , 0.        , 0.        ,\n        0.        , 0.        , 0.        , 0.        , 0.        ,\n        0.        , 0.        , 0.        , 0.        , 0.        ,\n        0.        , 0.        , 0.        ],\n       [0.        , 0.        , 0.        , 0.        , 0.        ,\n        0.        , 0.        , 0.        , 0.        , 0.        ,\n        0.        , 0.        , 0.        , 0.        , 0.        ,\n        0.        , 0.        , 0.        , 0.        , 0.        ,\n        0.        , 0.        , 0.        , 0.        , 0.        ,\n        0.        , 0.        , 0.        ]])"
          },
          "metadata": {},
          "execution_count": 45
        }
      ],
      "source": [
        "x_train[0]"
      ]
    },
    {
      "cell_type": "code",
      "source": [
        "# Now the data should be in a format you're more familiar with\n",
        "x_train.shape"
      ],
      "outputs": [
        {
          "output_type": "execute_result",
          "data": {
            "text/plain": "(60000, 28, 28)"
          },
          "metadata": {},
          "execution_count": 46
        }
      ],
      "execution_count": 46,
      "metadata": {}
    },
    {
      "cell_type": "markdown",
      "source": [
        "### Making MNIST a Binary Problem \n",
        "MNIST is multiclass classification problem; however we haven't covered all the necessary techniques to handle this yet. You would need to one-hot encode the target, use a different loss metric, and use softmax activations for the last layer. This is all stuff we'll cover later this week, but let us simplify the problem for now: Zero or all else."
      ],
      "metadata": {}
    },
    {
      "cell_type": "markdown",
      "metadata": {},
      "source": [
        "## This approch was troublesome so I'm looking at the un converted targets and tring to estimate on that instead."
      ]
    },
    {
      "cell_type": "markdown",
      "source": [
        "### Estimating Your `net"
      ],
      "metadata": {}
    },
    {
      "cell_type": "code",
      "source": [
        "# not quite sure what the above header means so i'm going to build a model instead\n",
        "%load_ext tensorboard\n",
        "import tensorflow as tf\n",
        "from tensorflow import keras\n",
        "from tensorflow.keras.layers import Dense, Flatten\n",
        "from tensorflow.keras import Sequential\n",
        "import datetime\n",
        "\n",
        "logdir = os.path.join(\"logs\", datetime.datetime.now().strftime(\"%Y%m%d-%H%M%S\"))\n",
        "tensorboard_callback = tf.keras.callbacks.TensorBoard(logdir, histogram_freq=1)"
      ],
      "outputs": [
        {
          "output_type": "stream",
          "name": "stdout",
          "text": "The tensorboard extension is already loaded. To reload it, use:\n  %reload_ext tensorboard\n"
        }
      ],
      "execution_count": 47,
      "metadata": {
        "colab": {},
        "colab_type": "code",
        "id": "5MOPtYdk1HgA"
      }
    },
    {
      "cell_type": "code",
      "execution_count": 14,
      "metadata": {},
      "outputs": [],
      "source": [
        "from tensorflow.keras.layers import Dropout"
      ]
    },
    {
      "cell_type": "code",
      "execution_count": 48,
      "metadata": {},
      "outputs": [],
      "source": [
        "model = Sequential()"
      ]
    },
    {
      "cell_type": "code",
      "execution_count": 49,
      "metadata": {},
      "outputs": [],
      "source": [
        "model.add(Flatten(input_shape=(28,28)))"
      ]
    },
    {
      "cell_type": "code",
      "execution_count": 50,
      "metadata": {},
      "outputs": [],
      "source": [
        "model.add(Dense(32,activation='relu'))\n"
      ]
    },
    {
      "cell_type": "code",
      "execution_count": 51,
      "metadata": {},
      "outputs": [],
      "source": [
        "model.add(Dropout(0.5))"
      ]
    },
    {
      "cell_type": "code",
      "execution_count": 52,
      "metadata": {},
      "outputs": [],
      "source": [
        "model.add(Dense(32,activation='relu'))"
      ]
    },
    {
      "cell_type": "code",
      "execution_count": 53,
      "metadata": {},
      "outputs": [],
      "source": [
        "model.add(Dense(10,activation='softmax'))"
      ]
    },
    {
      "cell_type": "code",
      "execution_count": 38,
      "metadata": {},
      "outputs": [],
      "source": [
        "model.build(input_shape=(28,28))"
      ]
    },
    {
      "cell_type": "code",
      "execution_count": 54,
      "metadata": {},
      "outputs": [
        {
          "output_type": "stream",
          "name": "stdout",
          "text": "Model: \"sequential_3\"\n_________________________________________________________________\nLayer (type)                 Output Shape              Param #   \n=================================================================\nflatten_3 (Flatten)          (None, 784)               0         \n_________________________________________________________________\ndense_9 (Dense)              (None, 32)                25120     \n_________________________________________________________________\ndropout_3 (Dropout)          (None, 32)                0         \n_________________________________________________________________\ndense_10 (Dense)             (None, 32)                1056      \n_________________________________________________________________\ndense_11 (Dense)             (None, 10)                330       \n=================================================================\nTotal params: 26,506\nTrainable params: 26,506\nNon-trainable params: 0\n_________________________________________________________________\n"
        }
      ],
      "source": [
        "model.summary()"
      ]
    },
    {
      "cell_type": "code",
      "execution_count": 55,
      "metadata": {},
      "outputs": [],
      "source": [
        "# loss='binary_crossentropy'\n",
        "model.compile(loss='categorical_crossentropy', optimizer='adam', metrics=['accuracy','mse'])"
      ]
    },
    {
      "cell_type": "code",
      "execution_count": 57,
      "metadata": {
        "tags": [
          "outputPrepend",
          "outputPrepend",
          "outputPrepend",
          "outputPrepend",
          "outputPrepend",
          "outputPrepend",
          "outputPrepend",
          "outputPrepend",
          "outputPrepend",
          "outputPrepend",
          "outputPrepend",
          "outputPrepend",
          "outputPrepend",
          "outputPrepend",
          "outputPrepend",
          "outputPrepend",
          "outputPrepend",
          "outputPrepend",
          "outputPrepend",
          "outputPrepend",
          "outputPrepend",
          "outputPrepend",
          "outputPrepend",
          "outputPrepend",
          "outputPrepend",
          "outputPrepend",
          "outputPrepend",
          "outputPrepend",
          "outputPrepend",
          "outputPrepend",
          "outputPrepend",
          "outputPrepend",
          "outputPrepend",
          "outputPrepend",
          "outputPrepend",
          "outputPrepend",
          "outputPrepend",
          "outputPrepend",
          "outputPrepend",
          "outputPrepend",
          "outputPrepend",
          "outputPrepend",
          "outputPrepend",
          "outputPrepend",
          "outputPrepend",
          "outputPrepend",
          "outputPrepend",
          "outputPrepend",
          "outputPrepend",
          "outputPrepend",
          "outputPrepend",
          "outputPrepend",
          "outputPrepend",
          "outputPrepend",
          "outputPrepend",
          "outputPrepend",
          "outputPrepend",
          "outputPrepend",
          "outputPrepend",
          "outputPrepend",
          "outputPrepend",
          "outputPrepend",
          "outputPrepend",
          "outputPrepend",
          "outputPrepend",
          "outputPrepend",
          "outputPrepend",
          "outputPrepend",
          "outputPrepend",
          "outputPrepend",
          "outputPrepend",
          "outputPrepend",
          "outputPrepend",
          "outputPrepend",
          "outputPrepend",
          "outputPrepend",
          "outputPrepend",
          "outputPrepend",
          "outputPrepend",
          "outputPrepend",
          "outputPrepend",
          "outputPrepend",
          "outputPrepend",
          "outputPrepend",
          "outputPrepend",
          "outputPrepend",
          "outputPrepend",
          "outputPrepend",
          "outputPrepend",
          "outputPrepend",
          "outputPrepend",
          "outputPrepend",
          "outputPrepend",
          "outputPrepend",
          "outputPrepend",
          "outputPrepend",
          "outputPrepend",
          "outputPrepend",
          "outputPrepend",
          "outputPrepend",
          "outputPrepend",
          "outputPrepend",
          "outputPrepend",
          "outputPrepend",
          "outputPrepend",
          "outputPrepend",
          "outputPrepend",
          "outputPrepend",
          "outputPrepend",
          "outputPrepend",
          "outputPrepend",
          "outputPrepend",
          "outputPrepend",
          "outputPrepend",
          "outputPrepend",
          "outputPrepend"
        ]
      },
      "outputs": [
        {
          "output_type": "stream",
          "name": "stdout",
          "text": "Epoch 1/13\n1875/1875 [==============================] - 4s 2ms/step - loss: 0.2484 - accuracy: 0.9201 - mse: 0.0117 - val_loss: 0.1847 - val_accuracy: 0.9451 - val_mse: 0.0083\nEpoch 2/13\n1875/1875 [==============================] - 4s 2ms/step - loss: 0.2545 - accuracy: 0.9191 - mse: 0.0119 - val_loss: 0.1915 - val_accuracy: 0.9434 - val_mse: 0.0087\nEpoch 3/13\n1875/1875 [==============================] - 4s 2ms/step - loss: 0.2501 - accuracy: 0.9203 - mse: 0.0118 - val_loss: 0.2070 - val_accuracy: 0.9380 - val_mse: 0.0095\nEpoch 4/13\n1875/1875 [==============================] - 4s 2ms/step - loss: 0.2491 - accuracy: 0.9203 - mse: 0.0117 - val_loss: 0.1938 - val_accuracy: 0.9434 - val_mse: 0.0087\nEpoch 5/13\n1875/1875 [==============================] - 4s 2ms/step - loss: 0.2497 - accuracy: 0.9209 - mse: 0.0117 - val_loss: 0.1929 - val_accuracy: 0.9439 - val_mse: 0.0087\nEpoch 6/13\n1875/1875 [==============================] - 4s 2ms/step - loss: 0.2490 - accuracy: 0.9202 - mse: 0.0117 - val_loss: 0.1844 - val_accuracy: 0.9456 - val_mse: 0.0083\nEpoch 7/13\n1875/1875 [==============================] - 4s 2ms/step - loss: 0.2492 - accuracy: 0.9201 - mse: 0.0117 - val_loss: 0.2032 - val_accuracy: 0.9392 - val_mse: 0.0093\nEpoch 8/13\n1875/1875 [==============================] - 4s 2ms/step - loss: 0.2510 - accuracy: 0.9190 - mse: 0.0118 - val_loss: 0.2055 - val_accuracy: 0.9360 - val_mse: 0.0095\nEpoch 9/13\n1875/1875 [==============================] - 4s 2ms/step - loss: 0.2482 - accuracy: 0.9203 - mse: 0.0117 - val_loss: 0.2064 - val_accuracy: 0.9383 - val_mse: 0.0093\nEpoch 10/13\n1875/1875 [==============================] - 4s 2ms/step - loss: 0.2512 - accuracy: 0.9198 - mse: 0.0117 - val_loss: 0.1955 - val_accuracy: 0.9416 - val_mse: 0.0088\nEpoch 11/13\n1875/1875 [==============================] - 4s 2ms/step - loss: 0.2477 - accuracy: 0.9208 - mse: 0.0116 - val_loss: 0.1971 - val_accuracy: 0.9390 - val_mse: 0.0090\nEpoch 12/13\n1875/1875 [==============================] - 4s 2ms/step - loss: 0.2517 - accuracy: 0.9191 - mse: 0.0118 - val_loss: 0.1959 - val_accuracy: 0.9425 - val_mse: 0.0089\nEpoch 13/13\n1875/1875 [==============================] - 4s 2ms/step - loss: 0.2509 - accuracy: 0.9207 - mse: 0.0117 - val_loss: 0.1853 - val_accuracy: 0.9458 - val_mse: 0.0084\n"
        },
        {
          "output_type": "execute_result",
          "data": {
            "text/plain": "<tensorflow.python.keras.callbacks.History at 0x7f5a243aa090>"
          },
          "metadata": {},
          "execution_count": 57
        }
      ],
      "source": [
        "model.fit(x_train,\n",
        "          y_train,\n",
        "          # validated by tensorboard\n",
        "          epochs=13,\n",
        "          validation_data=(x_test,y_test),\n",
        "          callbacks=[tensorboard_callback])\n"
      ]
    },
    {
      "cell_type": "code",
      "execution_count": 34,
      "metadata": {},
      "outputs": [
        {
          "output_type": "display_data",
          "data": {
            "text/plain": "Launching TensorBoard..."
          },
          "metadata": {}
        }
      ],
      "source": [
        "%tensorboard --port=9001 --logdir logs"
      ]
    },
    {
      "cell_type": "code",
      "execution_count": 58,
      "metadata": {},
      "outputs": [
        {
          "output_type": "execute_result",
          "data": {
            "text/plain": "array([[3.69105191e-09, 1.49952609e-03, 1.53008688e-04, ...,\n        9.97929096e-01, 9.19430822e-05, 8.87426495e-07],\n       [1.24413946e-05, 3.47612388e-02, 9.48810995e-01, ...,\n        1.73762557e-03, 2.33549741e-03, 6.47497529e-07],\n       [6.03521144e-08, 9.99908447e-01, 6.54765699e-06, ...,\n        1.53391084e-05, 5.64709044e-05, 1.12771104e-07],\n       ...,\n       [6.00672638e-06, 9.58438250e-07, 9.95129012e-05, ...,\n        3.80026596e-03, 1.26378916e-04, 9.74939689e-02],\n       [2.33282837e-11, 5.95237033e-08, 7.89816283e-08, ...,\n        1.01013069e-11, 8.75850601e-05, 1.23154505e-05],\n       [1.68623490e-10, 5.06550912e-10, 9.58168926e-07, ...,\n        3.76950728e-12, 2.37921108e-06, 2.44901571e-10]], dtype=float32)"
          },
          "metadata": {},
          "execution_count": 58
        }
      ],
      "source": [
        "model.predict(x_test)"
      ]
    },
    {
      "cell_type": "markdown",
      "source": [
        "## Stretch Goals: \n",
        "\n",
        "- Make MNIST a multiclass problem using cross entropy & soft-max\n",
        "- Implement Cross Validation model evaluation on your MNIST implementation \n",
        "- Research different [Gradient Descent Based Optimizers](https://keras.io/optimizers/)\n",
        " - [Siraj Raval the evolution of gradient descent](https://www.youtube.com/watch?v=nhqo0u1a6fw)\n",
        "- Build a housing price estimation model using a neural network. How does its accuracy compare with the regression models that we fit earlier on in class?"
      ],
      "metadata": {
        "colab_type": "text",
        "id": "FwlRJSfBlCvy"
      }
    }
  ],
  "metadata": {
    "colab": {
      "name": "LS_DS_432_Backprop_Assignment.ipynb",
      "provenance": [],
      "version": "0.3.2"
    },
    "kernelspec": {
      "display_name": "Python 3.7.6 64-bit ('intro_nn': conda)",
      "language": "python",
      "name": "python37664bitintronncondabe27099557db4cd1a4d5547b016f4f28"
    },
    "language_info": {
      "codemirror_mode": {
        "name": "ipython",
        "version": 3
      },
      "file_extension": ".py",
      "mimetype": "text/x-python",
      "name": "python",
      "nbconvert_exporter": "python",
      "pygments_lexer": "ipython3",
      "version": "3.7.6-final"
    },
    "nteract": {
      "version": "0.22.4"
    }
  },
  "nbformat": 4,
  "nbformat_minor": 4
}